{
  "cells": [
    {
      "cell_type": "markdown",
      "metadata": {},
      "source": [
        "# Bluesky Ranker — Example Notebook\n",
        "\n",
        "This notebook demonstrates the typical workflow:\n",
        "- Fetch recent public posts into SQLite (upsert-by-URI)\n",
        "- Load posts from SQLite into a Polars DataFrame\n",
        "- Rank posts using the TopicRanker (TF–IDF/Count/SBERT)\n",
        "- Inspect the top clusters and sample posts\n",
        "- (Optional) Generate a per-handle cluster report to Markdown\n"
      ]
    },
    {
      "cell_type": "markdown",
      "metadata": {},
      "source": [
        "> Note: This notebook expects a SQLite DB with posts.\n",
        "Create one via the sample (no network): `python -m blueskyranker.sample_db --db newsflows_sample.db`\n",
        "or fetch live data via the fetcher CLI.\n"
      ]
    },
    {
      "cell_type": "code",
      "execution_count": 1,
      "metadata": {},
      "outputs": [],
      "source": [
        "# Imports and setup\n",
        "import polars as pl\n",
        "from blueskyranker.fetcher import Fetcher, ensure_db, load_posts_df\n",
        "from blueskyranker.ranker import TopicRanker\n"
      ]
    },
    {
      "cell_type": "markdown",
      "metadata": {},
      "source": [
        "## 1) Fetch recent posts into SQLite\n",
        "\n",
        "- Adjust `--max-age-days` to control the time window.\n",
        "- Upsert ensures engagement metrics refresh over time.\n",
        "- You can also call the fetcher via CLI if you prefer.\n"
      ]
    },
    {
      "cell_type": "code",
      "execution_count": 2,
      "metadata": {},
      "outputs": [
        {
          "name": "stderr",
          "output_type": "stream",
          "text": [
            "Posts fetched (all handles): 0post [00:00, ?post/s]\n",
            "Posts fetched (all handles): 1post [00:00,  4.06post/s]\n",
            "\u001b[A\n",
            "\u001b[A\n",
            "\u001b[A\n",
            "\u001b[A\n",
            "                                                       \n",
            "Posts fetched (all handles): 34post [00:00,  4.06post/s]"
          ]
        },
        {
          "name": "stdout",
          "output_type": "stream",
          "text": [
            "✅ DONE news-flows-nl.bsky.social: upserted 34 posts into SQLite\n"
          ]
        },
        {
          "name": "stderr",
          "output_type": "stream",
          "text": [
            "\n",
            "Posts fetched (all handles): 35post [00:01, 33.75post/s]\n",
            "\u001b[A\n",
            "\u001b[A\n",
            "\u001b[A\n",
            "\u001b[A\n",
            "                                                        \n",
            "Posts fetched (all handles): 51post [00:01, 33.75post/s]  "
          ]
        },
        {
          "name": "stdout",
          "output_type": "stream",
          "text": [
            "✅ DONE news-flows-ir.bsky.social: upserted 17 posts into SQLite\n"
          ]
        },
        {
          "name": "stderr",
          "output_type": "stream",
          "text": [
            "\n",
            "Posts fetched (all handles): 52post [00:02, 19.80post/s]\n",
            "\u001b[A\n",
            "\u001b[A\n",
            "\u001b[A\n",
            "\u001b[A\n",
            "                                                        \n",
            "Posts fetched (all handles): 105post [00:02, 19.80post/s] "
          ]
        },
        {
          "name": "stdout",
          "output_type": "stream",
          "text": [
            "✅ DONE news-flows-cz.bsky.social: upserted 54 posts into SQLite\n"
          ]
        },
        {
          "name": "stderr",
          "output_type": "stream",
          "text": [
            "\n",
            "Posts fetched (all handles): 106post [00:03, 31.06post/s]\n",
            "\u001b[A\n",
            "\u001b[A\n",
            "\u001b[A\n",
            "\u001b[A\n",
            "                                                         \n",
            "Handles: 100%|██████████| 4/4 [00:04<00:00,  1.03s/handle]\n",
            "Posts fetched (all handles): 139post [00:04, 33.87post/s]"
          ]
        },
        {
          "name": "stdout",
          "output_type": "stream",
          "text": [
            "✅ DONE news-flows-fr.bsky.social: upserted 34 posts into SQLite\n",
            "\n",
            "========================================================================\n",
            "FINAL REPORT\n",
            "========================================================================\n",
            "\n",
            "Handle: news-flows-nl.bsky.social\n",
            "  Pages fetched         : 2\n",
            "  Posts fetched         : 34\n",
            "    - originals         : 34\n",
            "    - replies           : 0\n",
            "    - reposts           : 0\n",
            "  Engagement (sums)\n",
            "    - likes             : 0\n",
            "    - reposts           : 0\n",
            "    - replies           : 0\n",
            "    - quotes            : 0\n",
            "  Engagement (averages per post)\n",
            "    - likes             : 0.00\n",
            "    - reposts           : 0.00\n",
            "    - replies           : 0.00\n",
            "    - quotes            : 0.00\n",
            "  Time range            : 2025-09-10T11:15:47+00:00  →  2025-09-10T12:18:25+00:00\n",
            "  Time taken            : 0.81s\n",
            "  Effective rate        : 42.17 posts/sec\n",
            "  WARN embed anomalies  :\n",
            "    - empty news_title  : 5\n",
            "    - empty news_descr. : 6\n",
            "    - empty news_uri    : 0\n",
            "\n",
            "Handle: news-flows-ir.bsky.social\n",
            "  Pages fetched         : 2\n",
            "  Posts fetched         : 17\n",
            "    - originals         : 17\n",
            "    - replies           : 0\n",
            "    - reposts           : 0\n",
            "  Engagement (sums)\n",
            "    - likes             : 0\n",
            "    - reposts           : 0\n",
            "    - replies           : 0\n",
            "    - quotes            : 0\n",
            "  Engagement (averages per post)\n",
            "    - likes             : 0.00\n",
            "    - reposts           : 0.00\n",
            "    - replies           : 0.00\n",
            "    - quotes            : 0.00\n",
            "  Time range            : 2025-09-10T11:20:26+00:00  →  2025-09-10T12:04:58+00:00\n",
            "  Time taken            : 0.83s\n",
            "  Effective rate        : 20.43 posts/sec\n",
            "  WARN embed anomalies  :\n",
            "    - empty news_title  : 8\n",
            "    - empty news_descr. : 8\n",
            "    - empty news_uri    : 0\n",
            "\n",
            "Handle: news-flows-cz.bsky.social\n",
            "  Pages fetched         : 2\n",
            "  Posts fetched         : 54\n",
            "    - originals         : 54\n",
            "    - replies           : 0\n",
            "    - reposts           : 0\n",
            "  Engagement (sums)\n",
            "    - likes             : 0\n",
            "    - reposts           : 0\n",
            "    - replies           : 0\n",
            "    - quotes            : 0\n",
            "  Engagement (averages per post)\n",
            "    - likes             : 0.00\n",
            "    - reposts           : 0.00\n",
            "    - replies           : 0.00\n",
            "    - quotes            : 0.00\n",
            "  Time range            : 2025-09-10T11:26:37+00:00  →  2025-09-10T12:28:02+00:00\n",
            "  Time taken            : 1.19s\n",
            "  Effective rate        : 45.44 posts/sec\n",
            "  WARN embed anomalies  :\n",
            "    - empty news_title  : 51\n",
            "    - empty news_descr. : 51\n",
            "    - empty news_uri    : 0\n",
            "\n",
            "Handle: news-flows-fr.bsky.social\n",
            "  Pages fetched         : 2\n",
            "  Posts fetched         : 34\n",
            "    - originals         : 34\n",
            "    - replies           : 0\n",
            "    - reposts           : 0\n",
            "  Engagement (sums)\n",
            "    - likes             : 0\n",
            "    - reposts           : 0\n",
            "    - replies           : 0\n",
            "    - quotes            : 0\n",
            "  Engagement (averages per post)\n",
            "    - likes             : 0.00\n",
            "    - reposts           : 0.00\n",
            "    - replies           : 0.00\n",
            "    - quotes            : 0.00\n",
            "  Time range            : 2025-09-10T11:36:02+00:00  →  2025-09-10T12:24:28+00:00\n",
            "  Time taken            : 1.19s\n",
            "  Effective rate        : 28.56 posts/sec\n",
            "  WARN embed anomalies  :\n",
            "    - empty news_title  : 27\n",
            "    - empty news_descr. : 27\n",
            "    - empty news_uri    : 0\n",
            "\n",
            "------------------------------------------------------------------------\n",
            "All handles combined\n",
            "------------------------------------------------------------------------\n",
            "  Total pages           : 8\n",
            "  Total posts           : 139\n",
            "    - originals         : 139\n",
            "    - replies           : 0\n",
            "    - reposts           : 0\n",
            "  Engagement (sums)\n",
            "    - likes             : 0\n",
            "    - reposts           : 0\n",
            "    - replies           : 0\n",
            "    - quotes            : 0\n",
            "  Engagement (averages per post)\n",
            "    - likes             : 0.00\n",
            "    - reposts           : 0.00\n",
            "    - replies           : 0.00\n",
            "    - quotes            : 0.00\n"
          ]
        },
        {
          "name": "stderr",
          "output_type": "stream",
          "text": [
            "\n"
          ]
        }
      ],
      "source": [
        "fetcher = Fetcher()\n",
        "result = fetcher.fetch(max_age_days=7)  # change to your needs\n",
        "print(result)\n"
      ]
    },
    {
      "cell_type": "markdown",
      "metadata": {},
      "source": [
        "## 2) Load posts from SQLite\n",
        "\n",
        "- Choose a handle you want to rank.\n",
        "- You can limit rows or change ordering as needed.\n"
      ]
    },
    {
      "cell_type": "code",
      "execution_count": 8,
      "metadata": {},
      "outputs": [
        {
          "data": {
            "text/html": [
              "<div><style>\n",
              ".dataframe > thead > tr,\n",
              ".dataframe > tbody > tr {\n",
              "  text-align: right;\n",
              "  white-space: pre-wrap;\n",
              "}\n",
              "</style>\n",
              "<small>shape: (5, 17)</small><table border=\"1\" class=\"dataframe\"><thead><tr><th>uri</th><th>cid</th><th>author_handle</th><th>author_did</th><th>indexedAt</th><th>createdAt</th><th>text</th><th>reply_root_uri</th><th>reply_parent_uri</th><th>is_repost</th><th>like_count</th><th>repost_count</th><th>reply_count</th><th>quote_count</th><th>news_title</th><th>news_description</th><th>news_uri</th></tr><tr><td>str</td><td>str</td><td>str</td><td>str</td><td>str</td><td>str</td><td>str</td><td>null</td><td>null</td><td>i64</td><td>i64</td><td>i64</td><td>i64</td><td>i64</td><td>str</td><td>str</td><td>str</td></tr></thead><tbody><tr><td>&quot;at://did:plc:vzmnljt7otfbbgrma…</td><td>&quot;bafyreicfd5awvzowg3jbp75skakmq…</td><td>&quot;news-flows-ir.bsky.social&quot;</td><td>&quot;did:plc:vzmnljt7otfbbgrmachtef…</td><td>&quot;2025-09-03T19:43:52.709Z&quot;</td><td>&quot;2025-09-03T11:42:44.000000Z&quot;</td><td>&quot;&#x27;I was just a fan&#x27; - Loftus-Ch…</td><td>null</td><td>null</td><td>0</td><td>0</td><td>0</td><td>0</td><td>0</td><td>&quot;Ruben Loftus-Cheek: England mi…</td><td>&quot;AC Milan midfielder Ruben Loft…</td><td>&quot;https://www.bbc.com/sport/foot…</td></tr><tr><td>&quot;at://did:plc:vzmnljt7otfbbgrma…</td><td>&quot;bafyreibxzkrhgfje7c4lcsz25k6zm…</td><td>&quot;news-flows-ir.bsky.social&quot;</td><td>&quot;did:plc:vzmnljt7otfbbgrmachtef…</td><td>&quot;2025-09-03T12:05:03.103Z&quot;</td><td>&quot;2025-09-03T11:45:33.000000Z&quot;</td><td>&quot;Taoiseach and Olympic sailor j…</td><td>null</td><td>null</td><td>0</td><td>0</td><td>0</td><td>0</td><td>0</td><td>null</td><td>null</td><td>&quot;https://www.irishmirror.ie/new…</td></tr><tr><td>&quot;at://did:plc:vzmnljt7otfbbgrma…</td><td>&quot;bafyreia4yd4sacgffr6max3kvsvzc…</td><td>&quot;news-flows-ir.bsky.social&quot;</td><td>&quot;did:plc:vzmnljt7otfbbgrmachtef…</td><td>&quot;2025-09-04T02:50:22.010Z&quot;</td><td>&quot;2025-09-03T11:45:39.000000Z&quot;</td><td>&quot;14 Ways To Instantly Shut Down…</td><td>null</td><td>null</td><td>0</td><td>0</td><td>0</td><td>0</td><td>0</td><td>&quot;14 Ways To Instantly Shut Down…</td><td>&quot;This is how you can silently s…</td><td>&quot;https://www.yahoo.com/lifestyl…</td></tr><tr><td>&quot;at://did:plc:vzmnljt7otfbbgrma…</td><td>&quot;bafyreidbbucjp2hc7yzmocyka4fjs…</td><td>&quot;news-flows-ir.bsky.social&quot;</td><td>&quot;did:plc:vzmnljt7otfbbgrmachtef…</td><td>&quot;2025-09-03T12:05:03.206Z&quot;</td><td>&quot;2025-09-03T11:47:00.000000Z&quot;</td><td>&quot;Inside Ireland&#x27;s transfer dead…</td><td>null</td><td>null</td><td>0</td><td>0</td><td>0</td><td>0</td><td>0</td><td>null</td><td>null</td><td>&quot;https://www.irishmirror.ie/spo…</td></tr><tr><td>&quot;at://did:plc:vzmnljt7otfbbgrma…</td><td>&quot;bafyreihhqhjk3np37ojg6j4ra3omf…</td><td>&quot;news-flows-ir.bsky.social&quot;</td><td>&quot;did:plc:vzmnljt7otfbbgrmachtef…</td><td>&quot;2025-09-03T12:05:03.223Z&quot;</td><td>&quot;2025-09-03T11:47:25.000000Z&quot;</td><td>&quot;Another Asian Hornet nest foun…</td><td>null</td><td>null</td><td>0</td><td>1</td><td>0</td><td>0</td><td>0</td><td>null</td><td>null</td><td>&quot;https://www.irishmirror.ie/new…</td></tr></tbody></table></div>"
            ],
            "text/plain": [
              "shape: (5, 17)\n",
              "┌───────────┬───────────┬───────────┬───────────┬───┬───────────┬───────────┬───────────┬──────────┐\n",
              "│ uri       ┆ cid       ┆ author_ha ┆ author_di ┆ … ┆ quote_cou ┆ news_titl ┆ news_desc ┆ news_uri │\n",
              "│ ---       ┆ ---       ┆ ndle      ┆ d         ┆   ┆ nt        ┆ e         ┆ ription   ┆ ---      │\n",
              "│ str       ┆ str       ┆ ---       ┆ ---       ┆   ┆ ---       ┆ ---       ┆ ---       ┆ str      │\n",
              "│           ┆           ┆ str       ┆ str       ┆   ┆ i64       ┆ str       ┆ str       ┆          │\n",
              "╞═══════════╪═══════════╪═══════════╪═══════════╪═══╪═══════════╪═══════════╪═══════════╪══════════╡\n",
              "│ at://did: ┆ bafyreicf ┆ news-flow ┆ did:plc:v ┆ … ┆ 0         ┆ Ruben Lof ┆ AC Milan  ┆ https:// │\n",
              "│ plc:vzmnl ┆ d5awvzowg ┆ s-ir.bsky ┆ zmnljt7ot ┆   ┆           ┆ tus-Cheek ┆ midfielde ┆ www.bbc. │\n",
              "│ jt7otfbbg ┆ 3jbp75ska ┆ .social   ┆ fbbgrmach ┆   ┆           ┆ : England ┆ r Ruben   ┆ com/spor │\n",
              "│ rma…      ┆ kmq…      ┆           ┆ tef…      ┆   ┆           ┆ mi…       ┆ Loft…     ┆ t/foot…  │\n",
              "│ at://did: ┆ bafyreibx ┆ news-flow ┆ did:plc:v ┆ … ┆ 0         ┆ null      ┆ null      ┆ https:// │\n",
              "│ plc:vzmnl ┆ zkrhgfje7 ┆ s-ir.bsky ┆ zmnljt7ot ┆   ┆           ┆           ┆           ┆ www.iris │\n",
              "│ jt7otfbbg ┆ c4lcsz25k ┆ .social   ┆ fbbgrmach ┆   ┆           ┆           ┆           ┆ hmirror. │\n",
              "│ rma…      ┆ 6zm…      ┆           ┆ tef…      ┆   ┆           ┆           ┆           ┆ ie/new…  │\n",
              "│ at://did: ┆ bafyreia4 ┆ news-flow ┆ did:plc:v ┆ … ┆ 0         ┆ 14 Ways   ┆ This is   ┆ https:// │\n",
              "│ plc:vzmnl ┆ yd4sacgff ┆ s-ir.bsky ┆ zmnljt7ot ┆   ┆           ┆ To        ┆ how you   ┆ www.yaho │\n",
              "│ jt7otfbbg ┆ r6max3kvs ┆ .social   ┆ fbbgrmach ┆   ┆           ┆ Instantly ┆ can       ┆ o.com/li │\n",
              "│ rma…      ┆ vzc…      ┆           ┆ tef…      ┆   ┆           ┆ Shut      ┆ silently  ┆ festyl…  │\n",
              "│           ┆           ┆           ┆           ┆   ┆           ┆ Down…     ┆ s…        ┆          │\n",
              "│ at://did: ┆ bafyreidb ┆ news-flow ┆ did:plc:v ┆ … ┆ 0         ┆ null      ┆ null      ┆ https:// │\n",
              "│ plc:vzmnl ┆ bucjp2hc7 ┆ s-ir.bsky ┆ zmnljt7ot ┆   ┆           ┆           ┆           ┆ www.iris │\n",
              "│ jt7otfbbg ┆ yzmocyka4 ┆ .social   ┆ fbbgrmach ┆   ┆           ┆           ┆           ┆ hmirror. │\n",
              "│ rma…      ┆ fjs…      ┆           ┆ tef…      ┆   ┆           ┆           ┆           ┆ ie/spo…  │\n",
              "│ at://did: ┆ bafyreihh ┆ news-flow ┆ did:plc:v ┆ … ┆ 0         ┆ null      ┆ null      ┆ https:// │\n",
              "│ plc:vzmnl ┆ qhjk3np37 ┆ s-ir.bsky ┆ zmnljt7ot ┆   ┆           ┆           ┆           ┆ www.iris │\n",
              "│ jt7otfbbg ┆ ojg6j4ra3 ┆ .social   ┆ fbbgrmach ┆   ┆           ┆           ┆           ┆ hmirror. │\n",
              "│ rma…      ┆ omf…      ┆           ┆ tef…      ┆   ┆           ┆           ┆           ┆ ie/new…  │\n",
              "└───────────┴───────────┴───────────┴───────────┴───┴───────────┴───────────┴───────────┴──────────┘"
            ]
          },
          "execution_count": 8,
          "metadata": {},
          "output_type": "execute_result"
        }
      ],
      "source": [
        "conn = ensure_db('newsflows.db')\n",
        "handle = 'news-flows-ir.bsky.social'  # pick one of your handles\n",
        "data = load_posts_df(conn, handle = handle, order_by='createdAt', descending=False)\n",
        "data.head()\n"
      ]
    },
    {
      "cell_type": "code",
      "execution_count": 4,
      "id": "7cfbe83e",
      "metadata": {},
      "outputs": [
        {
          "data": {
            "text/plain": [
              "0                          \n",
              "https://bfmtv                  2086\n",
              "https://ad                      985\n",
              "https://tf1info                 975\n",
              "https://franceinfo              964\n",
              "https://novinky                 813\n",
              "                               ... \n",
              "https://lcsun-news                1\n",
              "https://jmouders                  1\n",
              "https://skysports                 1\n",
              "https://smartasset                1\n",
              "https://offshore-technology       1\n",
              "Name: count, Length: 119, dtype: int64"
            ]
          },
          "execution_count": 4,
          "metadata": {},
          "output_type": "execute_result"
        }
      ],
      "source": [
        "import pandas as pd\n",
        "pd.DataFrame(data['news_uri']).map(lambda x: \" \".join(x.replace(\"www.\",\"\").split('.')[:1])).value_counts()"
      ]
    },
    {
      "cell_type": "code",
      "execution_count": 5,
      "id": "ba53207e",
      "metadata": {},
      "outputs": [
        {
          "data": {
            "text/html": [
              "<div>\n",
              "<style scoped>\n",
              "    .dataframe tbody tr th:only-of-type {\n",
              "        vertical-align: middle;\n",
              "    }\n",
              "\n",
              "    .dataframe tbody tr th {\n",
              "        vertical-align: top;\n",
              "    }\n",
              "\n",
              "    .dataframe thead th {\n",
              "        text-align: right;\n",
              "    }\n",
              "</style>\n",
              "<table border=\"1\" class=\"dataframe\">\n",
              "  <thead>\n",
              "    <tr style=\"text-align: right;\">\n",
              "      <th>isempty</th>\n",
              "      <th>False</th>\n",
              "      <th>True</th>\n",
              "    </tr>\n",
              "    <tr>\n",
              "      <th>domain</th>\n",
              "      <th></th>\n",
              "      <th></th>\n",
              "    </tr>\n",
              "  </thead>\n",
              "  <tbody>\n",
              "    <tr>\n",
              "      <th>https://bfmtv</th>\n",
              "      <td>348</td>\n",
              "      <td>1738</td>\n",
              "    </tr>\n",
              "    <tr>\n",
              "      <th>https://tf1info</th>\n",
              "      <td>265</td>\n",
              "      <td>710</td>\n",
              "    </tr>\n",
              "    <tr>\n",
              "      <th>https://franceinfo</th>\n",
              "      <td>280</td>\n",
              "      <td>684</td>\n",
              "    </tr>\n",
              "    <tr>\n",
              "      <th>https://bbc</th>\n",
              "      <td>218</td>\n",
              "      <td>410</td>\n",
              "    </tr>\n",
              "    <tr>\n",
              "      <th>https://novinky</th>\n",
              "      <td>440</td>\n",
              "      <td>373</td>\n",
              "    </tr>\n",
              "    <tr>\n",
              "      <th>https://idnes</th>\n",
              "      <td>425</td>\n",
              "      <td>316</td>\n",
              "    </tr>\n",
              "    <tr>\n",
              "      <th>https://leparisien</th>\n",
              "      <td>40</td>\n",
              "      <td>313</td>\n",
              "    </tr>\n",
              "    <tr>\n",
              "      <th>https://cnews</th>\n",
              "      <td>124</td>\n",
              "      <td>301</td>\n",
              "    </tr>\n",
              "    <tr>\n",
              "      <th>https://irozhlas</th>\n",
              "      <td>209</td>\n",
              "      <td>247</td>\n",
              "    </tr>\n",
              "    <tr>\n",
              "      <th>https://20minutes</th>\n",
              "      <td>77</td>\n",
              "      <td>244</td>\n",
              "    </tr>\n",
              "    <tr>\n",
              "      <th>https://ct24</th>\n",
              "      <td>0</td>\n",
              "      <td>218</td>\n",
              "    </tr>\n",
              "    <tr>\n",
              "      <th>https://huffingtonpost</th>\n",
              "      <td>88</td>\n",
              "      <td>212</td>\n",
              "    </tr>\n",
              "    <tr>\n",
              "      <th>https://linternaute</th>\n",
              "      <td>30</td>\n",
              "      <td>209</td>\n",
              "    </tr>\n",
              "    <tr>\n",
              "      <th>https://lepoint</th>\n",
              "      <td>51</td>\n",
              "      <td>186</td>\n",
              "    </tr>\n",
              "    <tr>\n",
              "      <th>https://lidovky</th>\n",
              "      <td>84</td>\n",
              "      <td>184</td>\n",
              "    </tr>\n",
              "    <tr>\n",
              "      <th>https://blesk</th>\n",
              "      <td>124</td>\n",
              "      <td>182</td>\n",
              "    </tr>\n",
              "    <tr>\n",
              "      <th>https://seznamzpravy</th>\n",
              "      <td>206</td>\n",
              "      <td>175</td>\n",
              "    </tr>\n",
              "    <tr>\n",
              "      <th>https://zpravy</th>\n",
              "      <td>70</td>\n",
              "      <td>159</td>\n",
              "    </tr>\n",
              "    <tr>\n",
              "      <th>https://theguardian</th>\n",
              "      <td>639</td>\n",
              "      <td>120</td>\n",
              "    </tr>\n",
              "    <tr>\n",
              "      <th>https://parlamentnilisty</th>\n",
              "      <td>141</td>\n",
              "      <td>102</td>\n",
              "    </tr>\n",
              "  </tbody>\n",
              "</table>\n",
              "</div>"
            ],
            "text/plain": [
              "isempty                   False  True \n",
              "domain                                \n",
              "https://bfmtv               348   1738\n",
              "https://tf1info             265    710\n",
              "https://franceinfo          280    684\n",
              "https://bbc                 218    410\n",
              "https://novinky             440    373\n",
              "https://idnes               425    316\n",
              "https://leparisien           40    313\n",
              "https://cnews               124    301\n",
              "https://irozhlas            209    247\n",
              "https://20minutes            77    244\n",
              "https://ct24                  0    218\n",
              "https://huffingtonpost       88    212\n",
              "https://linternaute          30    209\n",
              "https://lepoint              51    186\n",
              "https://lidovky              84    184\n",
              "https://blesk               124    182\n",
              "https://seznamzpravy        206    175\n",
              "https://zpravy               70    159\n",
              "https://theguardian         639    120\n",
              "https://parlamentnilisty    141    102"
            ]
          },
          "execution_count": 5,
          "metadata": {},
          "output_type": "execute_result"
        }
      ],
      "source": [
        "import pandas as pd\n",
        "df = pd.DataFrame(data)\n",
        "df['domain'] = df[16].map(lambda x: \" \".join(x.replace(\"www.\",\"\").split('.')[:1]))\n",
        "df['isempty'] = df[15].isnull()\n",
        "pd.crosstab(df['domain'], df['isempty']).sort_values(by=True, ascending=False).head(20)"
      ]
    },
    {
      "cell_type": "markdown",
      "metadata": {},
      "source": [
        "## 3) Rank posts by topic\n",
        "\n",
        "- Methods: `networkclustering-tfidf`, `networkclustering-count`, `networkclustering-sbert` (slower, higher semantic quality).\n",
        "- `similarity_threshold`: raise for fewer/tighter clusters.\n",
        "- `vectorizer_stopwords`: 'english' | list of words | None.\n"
      ]
    },
    {
      "cell_type": "code",
      "execution_count": 9,
      "metadata": {},
      "outputs": [
        {
          "name": "stderr",
          "output_type": "stream",
          "text": [
            "Do you really want to do this? You have 4165 texts, calculating sentence embeddings will be REALLY slow\n",
            "Consider using another method, or submitting less document\n",
            "/opt/homebrew/Caskroom/miniforge/base/envs/bskyranker/lib/python3.11/site-packages/tqdm/auto.py:21: TqdmWarning: IProgress not found. Please update jupyter and ipywidgets. See https://ipywidgets.readthedocs.io/en/stable/user_install.html\n",
            "  from .autonotebook import tqdm as notebook_tqdm\n",
            "Batches: 100%|██████████| 131/131 [00:11<00:00, 11.56it/s]\n"
          ]
        },
        {
          "data": {
            "text/html": [
              "<div><style>\n",
              ".dataframe > thead > tr,\n",
              ".dataframe > tbody > tr {\n",
              "  text-align: right;\n",
              "  white-space: pre-wrap;\n",
              "}\n",
              "</style>\n",
              "<small>shape: (5, 33)</small><table border=\"1\" class=\"dataframe\"><thead><tr><th>uri</th><th>cid</th><th>author_handle</th><th>author_did</th><th>indexedAt</th><th>createdAt</th><th>text</th><th>reply_root_uri</th><th>reply_parent_uri</th><th>is_repost</th><th>like_count</th><th>repost_count</th><th>reply_count</th><th>quote_count</th><th>news_title</th><th>news_description</th><th>news_uri</th><th>createdAt_dt</th><th>cluster</th><th>cluster_like_count</th><th>cluster_reply_count</th><th>cluster_quote_count</th><th>cluster_repost_count</th><th>cluster_size</th><th>cluster_engagement_count</th><th>cluster_engagement_rank</th><th>cluster_like_count_right</th><th>cluster_reply_count_right</th><th>cluster_quote_count_right</th><th>cluster_repost_count_right</th><th>cluster_size_right</th><th>cluster_engagement_count_right</th><th>cluster_engagement_rank_right</th></tr><tr><td>str</td><td>str</td><td>str</td><td>str</td><td>str</td><td>str</td><td>str</td><td>null</td><td>null</td><td>i64</td><td>i64</td><td>i64</td><td>i64</td><td>i64</td><td>str</td><td>str</td><td>str</td><td>datetime[μs, UTC]</td><td>i64</td><td>i64</td><td>i64</td><td>i64</td><td>i64</td><td>i64</td><td>i64</td><td>i64</td><td>i64</td><td>i64</td><td>i64</td><td>i64</td><td>i64</td><td>i64</td><td>i64</td></tr></thead><tbody><tr><td>&quot;at://did:plc:vzmnljt7otfbbgrma…</td><td>&quot;bafyreibvspmip26g5h7vofmjf4g2f…</td><td>&quot;news-flows-ir.bsky.social&quot;</td><td>&quot;did:plc:vzmnljt7otfbbgrmachtef…</td><td>&quot;2025-09-09T15:25:42.508Z&quot;</td><td>&quot;2025-09-09T12:54:50.000000Z&quot;</td><td>&quot;Israel targets Hamas leadershi…</td><td>null</td><td>null</td><td>0</td><td>0</td><td>0</td><td>0</td><td>0</td><td>&quot;Israel targets Hamas leadershi…</td><td>&quot;Israel launched an airstrike a…</td><td>&quot;https://www.yahoo.com/news/art…</td><td>2025-09-09 12:54:50 UTC</td><td>5</td><td>6</td><td>3</td><td>0</td><td>1</td><td>176</td><td>10</td><td>6</td><td>3</td><td>2</td><td>0</td><td>0</td><td>96</td><td>5</td><td>4</td></tr><tr><td>&quot;at://did:plc:vzmnljt7otfbbgrma…</td><td>&quot;bafyreiaaj22h5znt5wa4bzwkm4y4i…</td><td>&quot;news-flows-ir.bsky.social&quot;</td><td>&quot;did:plc:vzmnljt7otfbbgrmachtef…</td><td>&quot;2025-09-09T13:44:55.801Z&quot;</td><td>&quot;2025-09-09T13:07:00.000000Z&quot;</td><td>&quot;Israel launches strikes agains…</td><td>null</td><td>null</td><td>0</td><td>0</td><td>0</td><td>0</td><td>0</td><td>&quot;Israel launches strikes agains…</td><td>&quot;The Israeli military has said …</td><td>&quot;https://news.sky.com/story/isr…</td><td>2025-09-09 13:07:00 UTC</td><td>5</td><td>6</td><td>3</td><td>0</td><td>1</td><td>176</td><td>10</td><td>6</td><td>3</td><td>2</td><td>0</td><td>0</td><td>96</td><td>5</td><td>4</td></tr><tr><td>&quot;at://did:plc:vzmnljt7otfbbgrma…</td><td>&quot;bafyreifeeoyebwlwimzwq476brvt6…</td><td>&quot;news-flows-ir.bsky.social&quot;</td><td>&quot;did:plc:vzmnljt7otfbbgrmachtef…</td><td>&quot;2025-09-09T15:25:49.207Z&quot;</td><td>&quot;2025-09-09T13:12:48.000000Z&quot;</td><td>&quot;Israel targeted Hamas leaders …</td><td>null</td><td>null</td><td>0</td><td>0</td><td>0</td><td>0</td><td>0</td><td>&quot;Israel targeted Hamas leaders …</td><td>&quot;Israel launched a strike on Ha…</td><td>&quot;https://www.yahoo.com/news/art…</td><td>2025-09-09 13:12:48 UTC</td><td>5</td><td>6</td><td>3</td><td>0</td><td>1</td><td>176</td><td>10</td><td>6</td><td>3</td><td>2</td><td>0</td><td>0</td><td>96</td><td>5</td><td>4</td></tr><tr><td>&quot;at://did:plc:vzmnljt7otfbbgrma…</td><td>&quot;bafyreihfdtfbyi6wkjq3hyjyplbgg…</td><td>&quot;news-flows-ir.bsky.social&quot;</td><td>&quot;did:plc:vzmnljt7otfbbgrmachtef…</td><td>&quot;2025-09-09T20:45:18.307Z&quot;</td><td>&quot;2025-09-09T13:19:41.000000Z&quot;</td><td>&quot;Why are young people protestin…</td><td>null</td><td>null</td><td>0</td><td>0</td><td>0</td><td>0</td><td>0</td><td>null</td><td>null</td><td>&quot;https://www.bbc.com/news/artic…</td><td>2025-09-09 13:19:41 UTC</td><td>5</td><td>6</td><td>3</td><td>0</td><td>1</td><td>176</td><td>10</td><td>6</td><td>3</td><td>2</td><td>0</td><td>0</td><td>96</td><td>5</td><td>4</td></tr><tr><td>&quot;at://did:plc:vzmnljt7otfbbgrma…</td><td>&quot;bafyreih7uxm32crczic45kiic24wj…</td><td>&quot;news-flows-ir.bsky.social&quot;</td><td>&quot;did:plc:vzmnljt7otfbbgrmachtef…</td><td>&quot;2025-09-09T14:03:46.303Z&quot;</td><td>&quot;2025-09-09T13:33:13.000000Z&quot;</td><td>&quot;Israel launches strike into Qa…</td><td>null</td><td>null</td><td>0</td><td>0</td><td>0</td><td>0</td><td>0</td><td>&quot;Israel launches strike into Qa…</td><td>&quot;They were aiming for Hamas lea…</td><td>&quot;https://www.joe.ie/news/israel…</td><td>2025-09-09 13:33:13 UTC</td><td>5</td><td>6</td><td>3</td><td>0</td><td>1</td><td>176</td><td>10</td><td>6</td><td>3</td><td>2</td><td>0</td><td>0</td><td>96</td><td>5</td><td>4</td></tr></tbody></table></div>"
            ],
            "text/plain": [
              "shape: (5, 33)\n",
              "┌───────────┬───────────┬───────────┬───────────┬───┬───────────┬───────────┬───────────┬──────────┐\n",
              "│ uri       ┆ cid       ┆ author_ha ┆ author_di ┆ … ┆ cluster_r ┆ cluster_s ┆ cluster_e ┆ cluster_ │\n",
              "│ ---       ┆ ---       ┆ ndle      ┆ d         ┆   ┆ epost_cou ┆ ize_right ┆ ngagement ┆ engageme │\n",
              "│ str       ┆ str       ┆ ---       ┆ ---       ┆   ┆ nt_right  ┆ ---       ┆ _count_ri ┆ nt_rank_ │\n",
              "│           ┆           ┆ str       ┆ str       ┆   ┆ ---       ┆ i64       ┆ ght       ┆ right    │\n",
              "│           ┆           ┆           ┆           ┆   ┆ i64       ┆           ┆ ---       ┆ ---      │\n",
              "│           ┆           ┆           ┆           ┆   ┆           ┆           ┆ i64       ┆ i64      │\n",
              "╞═══════════╪═══════════╪═══════════╪═══════════╪═══╪═══════════╪═══════════╪═══════════╪══════════╡\n",
              "│ at://did: ┆ bafyreibv ┆ news-flow ┆ did:plc:v ┆ … ┆ 0         ┆ 96        ┆ 5         ┆ 4        │\n",
              "│ plc:vzmnl ┆ spmip26g5 ┆ s-ir.bsky ┆ zmnljt7ot ┆   ┆           ┆           ┆           ┆          │\n",
              "│ jt7otfbbg ┆ h7vofmjf4 ┆ .social   ┆ fbbgrmach ┆   ┆           ┆           ┆           ┆          │\n",
              "│ rma…      ┆ g2f…      ┆           ┆ tef…      ┆   ┆           ┆           ┆           ┆          │\n",
              "│ at://did: ┆ bafyreiaa ┆ news-flow ┆ did:plc:v ┆ … ┆ 0         ┆ 96        ┆ 5         ┆ 4        │\n",
              "│ plc:vzmnl ┆ j22h5znt5 ┆ s-ir.bsky ┆ zmnljt7ot ┆   ┆           ┆           ┆           ┆          │\n",
              "│ jt7otfbbg ┆ wa4bzwkm4 ┆ .social   ┆ fbbgrmach ┆   ┆           ┆           ┆           ┆          │\n",
              "│ rma…      ┆ y4i…      ┆           ┆ tef…      ┆   ┆           ┆           ┆           ┆          │\n",
              "│ at://did: ┆ bafyreife ┆ news-flow ┆ did:plc:v ┆ … ┆ 0         ┆ 96        ┆ 5         ┆ 4        │\n",
              "│ plc:vzmnl ┆ eoyebwlwi ┆ s-ir.bsky ┆ zmnljt7ot ┆   ┆           ┆           ┆           ┆          │\n",
              "│ jt7otfbbg ┆ mzwq476br ┆ .social   ┆ fbbgrmach ┆   ┆           ┆           ┆           ┆          │\n",
              "│ rma…      ┆ vt6…      ┆           ┆ tef…      ┆   ┆           ┆           ┆           ┆          │\n",
              "│ at://did: ┆ bafyreihf ┆ news-flow ┆ did:plc:v ┆ … ┆ 0         ┆ 96        ┆ 5         ┆ 4        │\n",
              "│ plc:vzmnl ┆ dtfbyi6wk ┆ s-ir.bsky ┆ zmnljt7ot ┆   ┆           ┆           ┆           ┆          │\n",
              "│ jt7otfbbg ┆ jq3hyjypl ┆ .social   ┆ fbbgrmach ┆   ┆           ┆           ┆           ┆          │\n",
              "│ rma…      ┆ bgg…      ┆           ┆ tef…      ┆   ┆           ┆           ┆           ┆          │\n",
              "│ at://did: ┆ bafyreih7 ┆ news-flow ┆ did:plc:v ┆ … ┆ 0         ┆ 96        ┆ 5         ┆ 4        │\n",
              "│ plc:vzmnl ┆ uxm32crcz ┆ s-ir.bsky ┆ zmnljt7ot ┆   ┆           ┆           ┆           ┆          │\n",
              "│ jt7otfbbg ┆ ic45kiic2 ┆ .social   ┆ fbbgrmach ┆   ┆           ┆           ┆           ┆          │\n",
              "│ rma…      ┆ 4wj…      ┆           ┆ tef…      ┆   ┆           ┆           ┆           ┆          │\n",
              "└───────────┴───────────┴───────────┴───────────┴───┴───────────┴───────────┴───────────┴──────────┘"
            ]
          },
          "execution_count": 9,
          "metadata": {},
          "output_type": "execute_result"
        }
      ],
      "source": [
        "ranker = TopicRanker(\n",
        "    returnformat='dataframe',\n",
        "    method='networkclustering-sbert',  # try 'networkclustering-tfidf' for semantics\n",
        "    descending=True,\n",
        "    similarity_threshold=0.2,\n",
        "    vectorizer_stopwords='english',\n",
        "    # Optional windows (days):\n",
        "    cluster_window_days=7,\n",
        "    engagement_window_days=3,\n",
        "    push_window_days=1,\n",
        ")\n",
        "ranking = ranker.rank(data)\n",
        "ranking.head()\n"
      ]
    },
    {
      "cell_type": "markdown",
      "metadata": {},
      "source": [
        "## 4) Inspect top clusters and posts\n",
        "\n",
        "- We show the 3 most engaged clusters.\n",
        "- For each, we list the 5 most recent posts with key fields.\n"
      ]
    },
    {
      "cell_type": "code",
      "execution_count": 10,
      "metadata": {},
      "outputs": [
        {
          "name": "stdout",
          "output_type": "stream",
          "text": [
            "\n",
            "=== Cluster 2 | size=899 | engagement=35\n",
            "- uri: at://did:plc:vzmnljt7otfbbgrmachtefxh/app.bsky.feed.post/3lyi7vhsrct2c\n",
            "  text: Much-travelled Donegal hero takes on first inter-county managerial role\n",
            "\n",
            "He has previously held coaching roles with club and county teams in Galway, Roscommon, Fermanagh, Westmeath and Donegal\n",
            "\n",
            "  news_title: Much-travelled Donegal hero takes on first inter-county managerial role\n",
            "  news_description: He has previously held coaching roles with club and county teams in Galway, Roscommon, Fermanagh, Westmeath and Donegal\n",
            "  news_uri: https://www.irishmirror.ie/sport/gaa/gaelic-football/gaelic-football-news/much-travelled-donegal-hero-takes-35881053\n",
            "- uri: at://did:plc:vzmnljt7otfbbgrmachtefxh/app.bsky.feed.post/3lyi6we4t672z\n",
            "  text: Alastair Campbell says Israel's Doha strike like UK 'wiping out' Adams and McGuinness before GFA\n",
            "\n",
            "‘It’s like… two days before Good Friday feels like it’s coming together, the British government decides to go and wipe out [Gerry] Adams and [Martin] McGuinness.’\n",
            "\n",
            "  news_title: None\n",
            "  news_description: None\n",
            "  news_uri: https://www.thejournal.ie/alaistair-campbell-compares-israel-attack-on-doha-to-britian-wiping-out-gerry-adams-6812618-Sep2025/\n",
            "- uri: at://did:plc:vzmnljt7otfbbgrmachtefxh/app.bsky.feed.post/3lyi6wck4bd27\n",
            "  text: How can Martinelli find his form for Arsenal to silence critics?\n",
            "\n",
            "Things have not been clicking for the Gabriel Martinelli at Arsenal recently. BBC Sport looks at the issues and how the Brazilian winger could regain his form.\n",
            "\n",
            "  news_title: None\n",
            "  news_description: None\n",
            "  news_uri: https://www.bbc.com/sport/football/articles/c62q367jlzdo?at_medium=RSS&amp;at_campaign=rss\n",
            "- uri: at://did:plc:vzmnljt7otfbbgrmachtefxh/app.bsky.feed.post/3lyi4ejgg7c2o\n",
            "  text: Rory McIlroy responds to Team USA's Ryder Cup major t-shirt blunder\n",
            "\n",
            "The American Ryder Cup team have been mocked for selling a t-shirt that appears to feature the silhouette of Rory McIlroy\n",
            "\n",
            "  news_title: Rory McIlroy responds to Team USA's Ryder Cup major t-shirt blunder\n",
            "  news_description: The American Ryder Cup team have been mocked for selling a t-shirt that appears to feature the silhouette of Rory McIlroy\n",
            "  news_uri: https://www.irishmirror.ie/sport/golf/rory-mcilroy-responds-team-usas-35880643\n",
            "- uri: at://did:plc:vzmnljt7otfbbgrmachtefxh/app.bsky.feed.post/3lyi3ckunl62d\n",
            "  text: ‘His team loved and revered him’: Harry Potter director David Yates pays tribute to production designer Stuart Craig\n",
            "\n",
            "Craig was an artist of literally towering achievements, in films from The English Patient to Harry Potter, whose kindness won the loyalty of the huge teams he led• Stuart Craig,...\n",
            "  news_title: ‘His team loved and revered him’: Harry Potter director David Yates pays tribute to production designer Stuart Craig\n",
            "  news_description: Craig was an artist of literally towering achievements, in films from The English Patient to Harry Potter, whose kindness won the loyalty of the huge teams he led\n",
            "  news_uri: https://www.theguardian.com/film/2025/sep/10/harry-potter-director-david-yates-stuart-craig-production-designer-tribute\n",
            "\n",
            "=== Cluster 0 | size=1227 | engagement=29\n",
            "- uri: at://did:plc:vzmnljt7otfbbgrmachtefxh/app.bsky.feed.post/3lyi7wmp2ng2h\n",
            "  text: Misinformation, fear and politics – how a South Dakota county drove away millions in solar energy\n",
            "\n",
            "Colton Berens was looking forward to the added income from his farm, but armed with rightwing falsehoods, other Selby residents opposed the moveLike most of South Dakota, Walworth county is built...\n",
            "  news_title: Misinformation, fear and politics – how a South Dakota county drove away millions in solar energy\n",
            "  news_description: Colton Berens was looking forward to the added income from his farm, but armed with rightwing falsehoods, other Selby residents opposed the move\n",
            "  news_uri: https://www.theguardian.com/environment/2025/sep/10/south-dakota-solar-energy\n",
            "- uri: at://did:plc:vzmnljt7otfbbgrmachtefxh/app.bsky.feed.post/3lyi6fhltet2c\n",
            "  text: Tánaiste Simon Harris says Russia's incursion into Polish airspace 'has to be a wake-up call for the West'\n",
            "\n",
            "Several drones and debris of one missile of unidentified origin have been found\n",
            "\n",
            "  news_title: None\n",
            "  news_description: None\n",
            "  news_uri: https://www.irishmirror.ie/news/irish-news/politics/tanaiste-simon-harris-says-russias-35881016\n",
            "- uri: at://did:plc:vzmnljt7otfbbgrmachtefxh/app.bsky.feed.post/3lyiao5maaz2u\n",
            "  text: Trump is used to shaking off criticism - but the Epstein story is different\n",
            "\n",
            "While there is no suggestion of criminal wrongdoing by Trump, the political consequences of the Epstein saga on the US president are very real\n",
            "\n",
            "  news_title: None\n",
            "  news_description: None\n",
            "  news_uri: https://www.bbc.com/news/articles/cp8j3e5g74no\n",
            "- uri: at://did:plc:vzmnljt7otfbbgrmachtefxh/app.bsky.feed.post/3lyiahlsfit2x\n",
            "  text: AI trade isn't in first inning; it's still in 'batting practice'\n",
            "\n",
            "\n",
            "\n",
            "  news_title: AI trade isn't in first inning; it's still in 'batting practice'\n",
            "  news_description: CFRA Research chief investment strategist Sam Stovall joins Market Domination Overtime with Josh Lipton to discuss the artificial intelligence (AI) trade and where he sees it heading. To watch more ex...\n",
            "  news_uri: https://finance.yahoo.com/video/ai-trade-isnt-first-inning-113001442.html\n",
            "- uri: at://did:plc:vzmnljt7otfbbgrmachtefxh/app.bsky.feed.post/3lyi4edvfra2h\n",
            "  text: Conor McGregor teams up with Donald Trump's son as Presidential election nears\n",
            "\n",
            "McGregor broke the news on Wednesday as he looked to rally support in his Presidential bid.\n",
            "\n",
            "  news_title: Conor McGregor teams up with Donald Trump's son as Presidential election nears\n",
            "  news_description: McGregor broke the news on Wednesday as he looked to rally support in his Presidential bid.\n",
            "  news_uri: https://www.irishmirror.ie/sport/ufc/conor-mcgregor-teams-up-donald-35879845\n",
            "\n",
            "=== Cluster 1 | size=941 | engagement=26\n",
            "- uri: at://did:plc:vzmnljt7otfbbgrmachtefxh/app.bsky.feed.post/3lyi7wgfklk2x\n",
            "  text: Second digger excavating ground at search site for missing boy\n",
            "\n",
            "Gardai searching waste ground on the edge of the north Dublin town of Donabate for a boy who is missing and presumed dead have now brought a second mechanical digger to the site which is now actively excavating at the scene.\n",
            "\n",
            "  news_title: Second digger excavating ground at search site for missing boy\n",
            "  news_description: Gardai searching waste ground on the edge of the north Dublin town of Donabate for a boy who is missing and presumed dead have now brought a second mechanical digger to the site which is now actively ...\n",
            "  news_uri: https://www.independent.ie/irish-news/second-digger-excavating-ground-at-search-site-for-missing-boy/a1291379679.html\n",
            "- uri: at://did:plc:vzmnljt7otfbbgrmachtefxh/app.bsky.feed.post/3lyi6wf3hn72z\n",
            "  text: Children feared among three dead in Channel crossing attempt\n",
            "\n",
            "Calais authorities say the three who died were likely crushed to the bottom of the boat.\n",
            "\n",
            "  news_title: None\n",
            "  news_description: None\n",
            "  news_uri: https://www.bbc.com/news/articles/ckgy0n4d99jo?at_medium=RSS&amp;at_campaign=rss\n",
            "- uri: at://did:plc:vzmnljt7otfbbgrmachtefxh/app.bsky.feed.post/3lyi5vk4xu72z\n",
            "  text: David Coote charged with making indecent video of a child\n",
            "\n",
            "BREAKING Former Premier League referee David Coote has been charged with making an indecent video of a child, as per...\n",
            "The post David Coote charged with making indecent video of a child appeared first on JOE.ie.\n",
            "\n",
            "  news_title: None\n",
            "  news_description: None\n",
            "  news_uri: https://www.joe.ie/news/david-coote-charged-with-making-indecent-video-of-a-child-853751\n",
            "- uri: at://did:plc:vzmnljt7otfbbgrmachtefxh/app.bsky.feed.post/3lyi5edqo4f2i\n",
            "  text: Dublin Airport apologises after customers overcharged in 'flash sales' for car park spaces\n",
            "\n",
            "Earlier this year, a \"pricing error\" occurred leading to overcharges for around 4,500 customers\n",
            "\n",
            "  news_title: Dublin Airport apology after customers overcharged in 'flash sales' for car park\n",
            "  news_description: Earlier this year, a \"pricing error\" occurred leading to overcharges for around 4,500 customers\n",
            "  news_uri: https://www.irishmirror.ie/news/irish-news/dublin-airport-apologises-after-customers-35880644\n",
            "- uri: at://did:plc:vzmnljt7otfbbgrmachtefxh/app.bsky.feed.post/3lyi3cb6npc2g\n",
            "  text: Four dead, including two children, attempting to cross Channel to UK in last 24 hours\n",
            "\n",
            "Attempts to cross Channel from France to UK have been particularly high for several days, say French authoritiesFour people including two children have died in two separate incidents while trying to cross the...\n",
            "  news_title: Four dead, including two children, attempting to cross Channel to UK in last 24 hours\n",
            "  news_description: Number of attempts to cross Channel has been particularly high for several days, say French authorities\n",
            "  news_uri: https://www.theguardian.com/uk-news/2025/sep/10/four-dead-including-two-children-attempting-to-cross-channel-to-uk-in-last-24-hours\n"
          ]
        }
      ],
      "source": [
        "clusters = (\n",
        "    ranking.group_by('cluster')\n",
        "    .agg([\n",
        "        pl.col('cluster_size').first().alias('size'),\n",
        "        pl.col('cluster_engagement_count').first().alias('engagement')\n",
        "    ])\n",
        "    .sort('engagement', descending=True)\n",
        "    .head(3)\n",
        ")\n",
        "for row in clusters.iter_rows(named=True):\n",
        "    cid = row['cluster']\n",
        "    size = int(row['size']) if row['size'] is not None else 0\n",
        "    eng = int(row['engagement']) if row['engagement'] is not None else 0\n",
        "    print(f\"\\n=== Cluster {cid} | size={size} | engagement={eng}\")\n",
        "    subset = (\n",
        "        ranking.filter(pl.col('cluster') == cid)\n",
        "        .sort('createdAt', descending=True)\n",
        "        .head(5)\n",
        "    )\n",
        "    for rec in subset.select(['uri','text','news_title','news_description','news_uri']).iter_rows(named=True):\n",
        "        print(f\"- uri: {rec['uri']}\")\n",
        "        print(f\"  text: {rec.get('text')}\")\n",
        "        print(f\"  news_title: {rec.get('news_title')}\")\n",
        "        print(f\"  news_description: {rec.get('news_description')}\")\n",
        "        print(f\"  news_uri: {rec.get('news_uri')}\")\n"
      ]
    },
    {
      "cell_type": "markdown",
      "metadata": {},
      "source": [
        "## 5) (Optional) Generate a cluster report\n",
        "\n",
        "- This writes `cluster_report.md` with top clusters per handle.\n",
        "- You can adjust method, threshold, and stopwords.\n"
      ]
    },
    {
      "cell_type": "markdown",
      "metadata": {},
      "source": [
        "## 6) (Optional) End-to-end: fetch → rank → push (per handle)\n",
        "\n",
        "- Runs the whole flow and logs a short cluster summary to `push.log`.\n"
      ]
    },
    {
      "cell_type": "code",
      "execution_count": null,
      "metadata": {},
      "outputs": [
        {
          "name": "stderr",
          "output_type": "stream",
          "text": [
            "Posts fetched (all handles): 0post [00:00, ?post/s]\n",
            "Posts fetched (all handles): 1post [00:00,  3.53post/s]\n",
            "\u001b[A\n",
            "\u001b[A\n",
            "\u001b[A\n",
            "\u001b[A\n",
            "                                                       \n",
            "Handles: 100%|██████████| 1/1 [00:00<00:00,  1.17handle/s]\n",
            "Posts fetched (all handles): 9post [00:00, 10.53post/s]\n"
          ]
        },
        {
          "name": "stdout",
          "output_type": "stream",
          "text": [
            "✅ DONE news-flows-ir.bsky.social: upserted 9 posts into SQLite\n"
          ]
        },
        {
          "ename": "ConnectionError",
          "evalue": "HTTPSConnectionPool(host='localhost', port=3020): Max retries exceeded with url: /api/prioritize?test=true (Caused by NewConnectionError('<urllib3.connection.HTTPSConnection object at 0x12189aa50>: Failed to establish a new connection: [Errno 61] Connection refused'))",
          "output_type": "error",
          "traceback": [
            "\u001b[31m---------------------------------------------------------------------------\u001b[39m",
            "\u001b[31mConnectionRefusedError\u001b[39m                    Traceback (most recent call last)",
            "\u001b[36mFile \u001b[39m\u001b[32m/opt/homebrew/Caskroom/miniforge/base/envs/bskyranker/lib/python3.11/site-packages/urllib3/connection.py:198\u001b[39m, in \u001b[36mHTTPConnection._new_conn\u001b[39m\u001b[34m(self)\u001b[39m\n\u001b[32m    197\u001b[39m \u001b[38;5;28;01mtry\u001b[39;00m:\n\u001b[32m--> \u001b[39m\u001b[32m198\u001b[39m     sock = \u001b[43mconnection\u001b[49m\u001b[43m.\u001b[49m\u001b[43mcreate_connection\u001b[49m\u001b[43m(\u001b[49m\n\u001b[32m    199\u001b[39m \u001b[43m        \u001b[49m\u001b[43m(\u001b[49m\u001b[38;5;28;43mself\u001b[39;49m\u001b[43m.\u001b[49m\u001b[43m_dns_host\u001b[49m\u001b[43m,\u001b[49m\u001b[43m \u001b[49m\u001b[38;5;28;43mself\u001b[39;49m\u001b[43m.\u001b[49m\u001b[43mport\u001b[49m\u001b[43m)\u001b[49m\u001b[43m,\u001b[49m\n\u001b[32m    200\u001b[39m \u001b[43m        \u001b[49m\u001b[38;5;28;43mself\u001b[39;49m\u001b[43m.\u001b[49m\u001b[43mtimeout\u001b[49m\u001b[43m,\u001b[49m\n\u001b[32m    201\u001b[39m \u001b[43m        \u001b[49m\u001b[43msource_address\u001b[49m\u001b[43m=\u001b[49m\u001b[38;5;28;43mself\u001b[39;49m\u001b[43m.\u001b[49m\u001b[43msource_address\u001b[49m\u001b[43m,\u001b[49m\n\u001b[32m    202\u001b[39m \u001b[43m        \u001b[49m\u001b[43msocket_options\u001b[49m\u001b[43m=\u001b[49m\u001b[38;5;28;43mself\u001b[39;49m\u001b[43m.\u001b[49m\u001b[43msocket_options\u001b[49m\u001b[43m,\u001b[49m\n\u001b[32m    203\u001b[39m \u001b[43m    \u001b[49m\u001b[43m)\u001b[49m\n\u001b[32m    204\u001b[39m \u001b[38;5;28;01mexcept\u001b[39;00m socket.gaierror \u001b[38;5;28;01mas\u001b[39;00m e:\n",
            "\u001b[36mFile \u001b[39m\u001b[32m/opt/homebrew/Caskroom/miniforge/base/envs/bskyranker/lib/python3.11/site-packages/urllib3/util/connection.py:85\u001b[39m, in \u001b[36mcreate_connection\u001b[39m\u001b[34m(address, timeout, source_address, socket_options)\u001b[39m\n\u001b[32m     84\u001b[39m \u001b[38;5;28;01mtry\u001b[39;00m:\n\u001b[32m---> \u001b[39m\u001b[32m85\u001b[39m     \u001b[38;5;28;01mraise\u001b[39;00m err\n\u001b[32m     86\u001b[39m \u001b[38;5;28;01mfinally\u001b[39;00m:\n\u001b[32m     87\u001b[39m     \u001b[38;5;66;03m# Break explicitly a reference cycle\u001b[39;00m\n",
            "\u001b[36mFile \u001b[39m\u001b[32m/opt/homebrew/Caskroom/miniforge/base/envs/bskyranker/lib/python3.11/site-packages/urllib3/util/connection.py:73\u001b[39m, in \u001b[36mcreate_connection\u001b[39m\u001b[34m(address, timeout, source_address, socket_options)\u001b[39m\n\u001b[32m     72\u001b[39m     sock.bind(source_address)\n\u001b[32m---> \u001b[39m\u001b[32m73\u001b[39m \u001b[43msock\u001b[49m\u001b[43m.\u001b[49m\u001b[43mconnect\u001b[49m\u001b[43m(\u001b[49m\u001b[43msa\u001b[49m\u001b[43m)\u001b[49m\n\u001b[32m     74\u001b[39m \u001b[38;5;66;03m# Break explicitly a reference cycle\u001b[39;00m\n",
            "\u001b[31mConnectionRefusedError\u001b[39m: [Errno 61] Connection refused",
            "\nThe above exception was the direct cause of the following exception:\n",
            "\u001b[31mNewConnectionError\u001b[39m                        Traceback (most recent call last)",
            "\u001b[36mFile \u001b[39m\u001b[32m/opt/homebrew/Caskroom/miniforge/base/envs/bskyranker/lib/python3.11/site-packages/urllib3/connectionpool.py:787\u001b[39m, in \u001b[36mHTTPConnectionPool.urlopen\u001b[39m\u001b[34m(self, method, url, body, headers, retries, redirect, assert_same_host, timeout, pool_timeout, release_conn, chunked, body_pos, preload_content, decode_content, **response_kw)\u001b[39m\n\u001b[32m    786\u001b[39m \u001b[38;5;66;03m# Make the request on the HTTPConnection object\u001b[39;00m\n\u001b[32m--> \u001b[39m\u001b[32m787\u001b[39m response = \u001b[38;5;28;43mself\u001b[39;49m\u001b[43m.\u001b[49m\u001b[43m_make_request\u001b[49m\u001b[43m(\u001b[49m\n\u001b[32m    788\u001b[39m \u001b[43m    \u001b[49m\u001b[43mconn\u001b[49m\u001b[43m,\u001b[49m\n\u001b[32m    789\u001b[39m \u001b[43m    \u001b[49m\u001b[43mmethod\u001b[49m\u001b[43m,\u001b[49m\n\u001b[32m    790\u001b[39m \u001b[43m    \u001b[49m\u001b[43murl\u001b[49m\u001b[43m,\u001b[49m\n\u001b[32m    791\u001b[39m \u001b[43m    \u001b[49m\u001b[43mtimeout\u001b[49m\u001b[43m=\u001b[49m\u001b[43mtimeout_obj\u001b[49m\u001b[43m,\u001b[49m\n\u001b[32m    792\u001b[39m \u001b[43m    \u001b[49m\u001b[43mbody\u001b[49m\u001b[43m=\u001b[49m\u001b[43mbody\u001b[49m\u001b[43m,\u001b[49m\n\u001b[32m    793\u001b[39m \u001b[43m    \u001b[49m\u001b[43mheaders\u001b[49m\u001b[43m=\u001b[49m\u001b[43mheaders\u001b[49m\u001b[43m,\u001b[49m\n\u001b[32m    794\u001b[39m \u001b[43m    \u001b[49m\u001b[43mchunked\u001b[49m\u001b[43m=\u001b[49m\u001b[43mchunked\u001b[49m\u001b[43m,\u001b[49m\n\u001b[32m    795\u001b[39m \u001b[43m    \u001b[49m\u001b[43mretries\u001b[49m\u001b[43m=\u001b[49m\u001b[43mretries\u001b[49m\u001b[43m,\u001b[49m\n\u001b[32m    796\u001b[39m \u001b[43m    \u001b[49m\u001b[43mresponse_conn\u001b[49m\u001b[43m=\u001b[49m\u001b[43mresponse_conn\u001b[49m\u001b[43m,\u001b[49m\n\u001b[32m    797\u001b[39m \u001b[43m    \u001b[49m\u001b[43mpreload_content\u001b[49m\u001b[43m=\u001b[49m\u001b[43mpreload_content\u001b[49m\u001b[43m,\u001b[49m\n\u001b[32m    798\u001b[39m \u001b[43m    \u001b[49m\u001b[43mdecode_content\u001b[49m\u001b[43m=\u001b[49m\u001b[43mdecode_content\u001b[49m\u001b[43m,\u001b[49m\n\u001b[32m    799\u001b[39m \u001b[43m    \u001b[49m\u001b[43m*\u001b[49m\u001b[43m*\u001b[49m\u001b[43mresponse_kw\u001b[49m\u001b[43m,\u001b[49m\n\u001b[32m    800\u001b[39m \u001b[43m\u001b[49m\u001b[43m)\u001b[49m\n\u001b[32m    802\u001b[39m \u001b[38;5;66;03m# Everything went great!\u001b[39;00m\n",
            "\u001b[36mFile \u001b[39m\u001b[32m/opt/homebrew/Caskroom/miniforge/base/envs/bskyranker/lib/python3.11/site-packages/urllib3/connectionpool.py:488\u001b[39m, in \u001b[36mHTTPConnectionPool._make_request\u001b[39m\u001b[34m(self, conn, method, url, body, headers, retries, timeout, chunked, response_conn, preload_content, decode_content, enforce_content_length)\u001b[39m\n\u001b[32m    487\u001b[39m         new_e = _wrap_proxy_error(new_e, conn.proxy.scheme)\n\u001b[32m--> \u001b[39m\u001b[32m488\u001b[39m     \u001b[38;5;28;01mraise\u001b[39;00m new_e\n\u001b[32m    490\u001b[39m \u001b[38;5;66;03m# conn.request() calls http.client.*.request, not the method in\u001b[39;00m\n\u001b[32m    491\u001b[39m \u001b[38;5;66;03m# urllib3.request. It also calls makefile (recv) on the socket.\u001b[39;00m\n",
            "\u001b[36mFile \u001b[39m\u001b[32m/opt/homebrew/Caskroom/miniforge/base/envs/bskyranker/lib/python3.11/site-packages/urllib3/connectionpool.py:464\u001b[39m, in \u001b[36mHTTPConnectionPool._make_request\u001b[39m\u001b[34m(self, conn, method, url, body, headers, retries, timeout, chunked, response_conn, preload_content, decode_content, enforce_content_length)\u001b[39m\n\u001b[32m    463\u001b[39m \u001b[38;5;28;01mtry\u001b[39;00m:\n\u001b[32m--> \u001b[39m\u001b[32m464\u001b[39m     \u001b[38;5;28;43mself\u001b[39;49m\u001b[43m.\u001b[49m\u001b[43m_validate_conn\u001b[49m\u001b[43m(\u001b[49m\u001b[43mconn\u001b[49m\u001b[43m)\u001b[49m\n\u001b[32m    465\u001b[39m \u001b[38;5;28;01mexcept\u001b[39;00m (SocketTimeout, BaseSSLError) \u001b[38;5;28;01mas\u001b[39;00m e:\n",
            "\u001b[36mFile \u001b[39m\u001b[32m/opt/homebrew/Caskroom/miniforge/base/envs/bskyranker/lib/python3.11/site-packages/urllib3/connectionpool.py:1093\u001b[39m, in \u001b[36mHTTPSConnectionPool._validate_conn\u001b[39m\u001b[34m(self, conn)\u001b[39m\n\u001b[32m   1092\u001b[39m \u001b[38;5;28;01mif\u001b[39;00m conn.is_closed:\n\u001b[32m-> \u001b[39m\u001b[32m1093\u001b[39m     \u001b[43mconn\u001b[49m\u001b[43m.\u001b[49m\u001b[43mconnect\u001b[49m\u001b[43m(\u001b[49m\u001b[43m)\u001b[49m\n\u001b[32m   1095\u001b[39m \u001b[38;5;66;03m# TODO revise this, see https://github.com/urllib3/urllib3/issues/2791\u001b[39;00m\n",
            "\u001b[36mFile \u001b[39m\u001b[32m/opt/homebrew/Caskroom/miniforge/base/envs/bskyranker/lib/python3.11/site-packages/urllib3/connection.py:753\u001b[39m, in \u001b[36mHTTPSConnection.connect\u001b[39m\u001b[34m(self)\u001b[39m\n\u001b[32m    752\u001b[39m sock: socket.socket | ssl.SSLSocket\n\u001b[32m--> \u001b[39m\u001b[32m753\u001b[39m \u001b[38;5;28mself\u001b[39m.sock = sock = \u001b[38;5;28;43mself\u001b[39;49m\u001b[43m.\u001b[49m\u001b[43m_new_conn\u001b[49m\u001b[43m(\u001b[49m\u001b[43m)\u001b[49m\n\u001b[32m    754\u001b[39m server_hostname: \u001b[38;5;28mstr\u001b[39m = \u001b[38;5;28mself\u001b[39m.host\n",
            "\u001b[36mFile \u001b[39m\u001b[32m/opt/homebrew/Caskroom/miniforge/base/envs/bskyranker/lib/python3.11/site-packages/urllib3/connection.py:213\u001b[39m, in \u001b[36mHTTPConnection._new_conn\u001b[39m\u001b[34m(self)\u001b[39m\n\u001b[32m    212\u001b[39m \u001b[38;5;28;01mexcept\u001b[39;00m \u001b[38;5;167;01mOSError\u001b[39;00m \u001b[38;5;28;01mas\u001b[39;00m e:\n\u001b[32m--> \u001b[39m\u001b[32m213\u001b[39m     \u001b[38;5;28;01mraise\u001b[39;00m NewConnectionError(\n\u001b[32m    214\u001b[39m         \u001b[38;5;28mself\u001b[39m, \u001b[33mf\u001b[39m\u001b[33m\"\u001b[39m\u001b[33mFailed to establish a new connection: \u001b[39m\u001b[38;5;132;01m{\u001b[39;00me\u001b[38;5;132;01m}\u001b[39;00m\u001b[33m\"\u001b[39m\n\u001b[32m    215\u001b[39m     ) \u001b[38;5;28;01mfrom\u001b[39;00m\u001b[38;5;250m \u001b[39m\u001b[34;01me\u001b[39;00m\n\u001b[32m    217\u001b[39m sys.audit(\u001b[33m\"\u001b[39m\u001b[33mhttp.client.connect\u001b[39m\u001b[33m\"\u001b[39m, \u001b[38;5;28mself\u001b[39m, \u001b[38;5;28mself\u001b[39m.host, \u001b[38;5;28mself\u001b[39m.port)\n",
            "\u001b[31mNewConnectionError\u001b[39m: <urllib3.connection.HTTPSConnection object at 0x12189aa50>: Failed to establish a new connection: [Errno 61] Connection refused",
            "\nThe above exception was the direct cause of the following exception:\n",
            "\u001b[31mMaxRetryError\u001b[39m                             Traceback (most recent call last)",
            "\u001b[36mFile \u001b[39m\u001b[32m/opt/homebrew/Caskroom/miniforge/base/envs/bskyranker/lib/python3.11/site-packages/requests/adapters.py:667\u001b[39m, in \u001b[36mHTTPAdapter.send\u001b[39m\u001b[34m(self, request, stream, timeout, verify, cert, proxies)\u001b[39m\n\u001b[32m    666\u001b[39m \u001b[38;5;28;01mtry\u001b[39;00m:\n\u001b[32m--> \u001b[39m\u001b[32m667\u001b[39m     resp = \u001b[43mconn\u001b[49m\u001b[43m.\u001b[49m\u001b[43murlopen\u001b[49m\u001b[43m(\u001b[49m\n\u001b[32m    668\u001b[39m \u001b[43m        \u001b[49m\u001b[43mmethod\u001b[49m\u001b[43m=\u001b[49m\u001b[43mrequest\u001b[49m\u001b[43m.\u001b[49m\u001b[43mmethod\u001b[49m\u001b[43m,\u001b[49m\n\u001b[32m    669\u001b[39m \u001b[43m        \u001b[49m\u001b[43murl\u001b[49m\u001b[43m=\u001b[49m\u001b[43murl\u001b[49m\u001b[43m,\u001b[49m\n\u001b[32m    670\u001b[39m \u001b[43m        \u001b[49m\u001b[43mbody\u001b[49m\u001b[43m=\u001b[49m\u001b[43mrequest\u001b[49m\u001b[43m.\u001b[49m\u001b[43mbody\u001b[49m\u001b[43m,\u001b[49m\n\u001b[32m    671\u001b[39m \u001b[43m        \u001b[49m\u001b[43mheaders\u001b[49m\u001b[43m=\u001b[49m\u001b[43mrequest\u001b[49m\u001b[43m.\u001b[49m\u001b[43mheaders\u001b[49m\u001b[43m,\u001b[49m\n\u001b[32m    672\u001b[39m \u001b[43m        \u001b[49m\u001b[43mredirect\u001b[49m\u001b[43m=\u001b[49m\u001b[38;5;28;43;01mFalse\u001b[39;49;00m\u001b[43m,\u001b[49m\n\u001b[32m    673\u001b[39m \u001b[43m        \u001b[49m\u001b[43massert_same_host\u001b[49m\u001b[43m=\u001b[49m\u001b[38;5;28;43;01mFalse\u001b[39;49;00m\u001b[43m,\u001b[49m\n\u001b[32m    674\u001b[39m \u001b[43m        \u001b[49m\u001b[43mpreload_content\u001b[49m\u001b[43m=\u001b[49m\u001b[38;5;28;43;01mFalse\u001b[39;49;00m\u001b[43m,\u001b[49m\n\u001b[32m    675\u001b[39m \u001b[43m        \u001b[49m\u001b[43mdecode_content\u001b[49m\u001b[43m=\u001b[49m\u001b[38;5;28;43;01mFalse\u001b[39;49;00m\u001b[43m,\u001b[49m\n\u001b[32m    676\u001b[39m \u001b[43m        \u001b[49m\u001b[43mretries\u001b[49m\u001b[43m=\u001b[49m\u001b[38;5;28;43mself\u001b[39;49m\u001b[43m.\u001b[49m\u001b[43mmax_retries\u001b[49m\u001b[43m,\u001b[49m\n\u001b[32m    677\u001b[39m \u001b[43m        \u001b[49m\u001b[43mtimeout\u001b[49m\u001b[43m=\u001b[49m\u001b[43mtimeout\u001b[49m\u001b[43m,\u001b[49m\n\u001b[32m    678\u001b[39m \u001b[43m        \u001b[49m\u001b[43mchunked\u001b[49m\u001b[43m=\u001b[49m\u001b[43mchunked\u001b[49m\u001b[43m,\u001b[49m\n\u001b[32m    679\u001b[39m \u001b[43m    \u001b[49m\u001b[43m)\u001b[49m\n\u001b[32m    681\u001b[39m \u001b[38;5;28;01mexcept\u001b[39;00m (ProtocolError, \u001b[38;5;167;01mOSError\u001b[39;00m) \u001b[38;5;28;01mas\u001b[39;00m err:\n",
            "\u001b[36mFile \u001b[39m\u001b[32m/opt/homebrew/Caskroom/miniforge/base/envs/bskyranker/lib/python3.11/site-packages/urllib3/connectionpool.py:841\u001b[39m, in \u001b[36mHTTPConnectionPool.urlopen\u001b[39m\u001b[34m(self, method, url, body, headers, retries, redirect, assert_same_host, timeout, pool_timeout, release_conn, chunked, body_pos, preload_content, decode_content, **response_kw)\u001b[39m\n\u001b[32m    839\u001b[39m     new_e = ProtocolError(\u001b[33m\"\u001b[39m\u001b[33mConnection aborted.\u001b[39m\u001b[33m\"\u001b[39m, new_e)\n\u001b[32m--> \u001b[39m\u001b[32m841\u001b[39m retries = \u001b[43mretries\u001b[49m\u001b[43m.\u001b[49m\u001b[43mincrement\u001b[49m\u001b[43m(\u001b[49m\n\u001b[32m    842\u001b[39m \u001b[43m    \u001b[49m\u001b[43mmethod\u001b[49m\u001b[43m,\u001b[49m\u001b[43m \u001b[49m\u001b[43murl\u001b[49m\u001b[43m,\u001b[49m\u001b[43m \u001b[49m\u001b[43merror\u001b[49m\u001b[43m=\u001b[49m\u001b[43mnew_e\u001b[49m\u001b[43m,\u001b[49m\u001b[43m \u001b[49m\u001b[43m_pool\u001b[49m\u001b[43m=\u001b[49m\u001b[38;5;28;43mself\u001b[39;49m\u001b[43m,\u001b[49m\u001b[43m \u001b[49m\u001b[43m_stacktrace\u001b[49m\u001b[43m=\u001b[49m\u001b[43msys\u001b[49m\u001b[43m.\u001b[49m\u001b[43mexc_info\u001b[49m\u001b[43m(\u001b[49m\u001b[43m)\u001b[49m\u001b[43m[\u001b[49m\u001b[32;43m2\u001b[39;49m\u001b[43m]\u001b[49m\n\u001b[32m    843\u001b[39m \u001b[43m\u001b[49m\u001b[43m)\u001b[49m\n\u001b[32m    844\u001b[39m retries.sleep()\n",
            "\u001b[36mFile \u001b[39m\u001b[32m/opt/homebrew/Caskroom/miniforge/base/envs/bskyranker/lib/python3.11/site-packages/urllib3/util/retry.py:519\u001b[39m, in \u001b[36mRetry.increment\u001b[39m\u001b[34m(self, method, url, response, error, _pool, _stacktrace)\u001b[39m\n\u001b[32m    518\u001b[39m     reason = error \u001b[38;5;129;01mor\u001b[39;00m ResponseError(cause)\n\u001b[32m--> \u001b[39m\u001b[32m519\u001b[39m     \u001b[38;5;28;01mraise\u001b[39;00m MaxRetryError(_pool, url, reason) \u001b[38;5;28;01mfrom\u001b[39;00m\u001b[38;5;250m \u001b[39m\u001b[34;01mreason\u001b[39;00m  \u001b[38;5;66;03m# type: ignore[arg-type]\u001b[39;00m\n\u001b[32m    521\u001b[39m log.debug(\u001b[33m\"\u001b[39m\u001b[33mIncremented Retry for (url=\u001b[39m\u001b[33m'\u001b[39m\u001b[38;5;132;01m%s\u001b[39;00m\u001b[33m'\u001b[39m\u001b[33m): \u001b[39m\u001b[38;5;132;01m%r\u001b[39;00m\u001b[33m\"\u001b[39m, url, new_retry)\n",
            "\u001b[31mMaxRetryError\u001b[39m: HTTPSConnectionPool(host='localhost', port=3020): Max retries exceeded with url: /api/prioritize?test=true (Caused by NewConnectionError('<urllib3.connection.HTTPSConnection object at 0x12189aa50>: Failed to establish a new connection: [Errno 61] Connection refused'))",
            "\nDuring handling of the above exception, another exception occurred:\n",
            "\u001b[31mConnectionError\u001b[39m                           Traceback (most recent call last)",
            "\u001b[36mCell\u001b[39m\u001b[36m \u001b[39m\u001b[32mIn[12]\u001b[39m\u001b[32m, line 2\u001b[39m\n\u001b[32m      1\u001b[39m \u001b[38;5;28;01mfrom\u001b[39;00m\u001b[38;5;250m \u001b[39m\u001b[34;01mblueskyranker\u001b[39;00m\u001b[34;01m.\u001b[39;00m\u001b[34;01mpipeline\u001b[39;00m\u001b[38;5;250m \u001b[39m\u001b[38;5;28;01mimport\u001b[39;00m run_fetch_rank_push\n\u001b[32m----> \u001b[39m\u001b[32m2\u001b[39m \u001b[43mrun_fetch_rank_push\u001b[49m\u001b[43m(\u001b[49m\n\u001b[32m      3\u001b[39m \u001b[43m    \u001b[49m\u001b[43mhandles\u001b[49m\u001b[43m=\u001b[49m\u001b[43m[\u001b[49m\u001b[43mhandle\u001b[49m\u001b[43m]\u001b[49m\u001b[43m,\u001b[49m\n\u001b[32m      4\u001b[39m \u001b[43m    \u001b[49m\u001b[43mmethod\u001b[49m\u001b[43m=\u001b[49m\u001b[33;43m'\u001b[39;49m\u001b[33;43mnetworkclustering-tfidf\u001b[39;49m\u001b[33;43m'\u001b[39;49m\u001b[43m,\u001b[49m\u001b[43m \u001b[49m\u001b[43msimilarity_threshold\u001b[49m\u001b[43m=\u001b[49m\u001b[32;43m0.2\u001b[39;49m\u001b[43m,\u001b[49m\n\u001b[32m      5\u001b[39m \u001b[43m    \u001b[49m\u001b[43mcluster_window_days\u001b[49m\u001b[43m=\u001b[49m\u001b[32;43m7\u001b[39;49m\u001b[43m,\u001b[49m\u001b[43m \u001b[49m\u001b[43mengagement_window_days\u001b[49m\u001b[43m=\u001b[49m\u001b[32;43m3\u001b[39;49m\u001b[43m,\u001b[49m\u001b[43m \u001b[49m\u001b[43mpush_window_days\u001b[49m\u001b[43m=\u001b[49m\u001b[32;43m1\u001b[39;49m\u001b[43m,\u001b[49m\n\u001b[32m      6\u001b[39m \u001b[43m    \u001b[49m\u001b[43minclude_pins\u001b[49m\u001b[43m=\u001b[49m\u001b[38;5;28;43;01mFalse\u001b[39;49;00m\u001b[43m,\u001b[49m\u001b[43m \u001b[49m\u001b[43mtest\u001b[49m\u001b[43m=\u001b[49m\u001b[38;5;28;43;01mTrue\u001b[39;49;00m\u001b[43m,\u001b[49m\u001b[43m \u001b[49m\u001b[43mlog_path\u001b[49m\u001b[43m=\u001b[49m\u001b[33;43m'\u001b[39;49m\u001b[33;43mpush.log\u001b[39;49m\u001b[33;43m'\u001b[39;49m\n\u001b[32m      7\u001b[39m \u001b[43m)\u001b[49m\n",
            "\u001b[36mFile \u001b[39m\u001b[32m~/Work/VUPD/projects/NEWSFLOWS/blueskyranker/blueskyranker/pipeline.py:165\u001b[39m, in \u001b[36mrun_fetch_rank_push\u001b[39m\u001b[34m(handles, xrpc_base, include_pins, cutoff_check_every, sqlite_path, fetch_max_age_days, method, similarity_threshold, vectorizer_stopwords, cluster_window_days, engagement_window_days, push_window_days, descending, test, dry_run, log_path)\u001b[39m\n\u001b[32m    159\u001b[39m     pushlog.info(\n\u001b[32m    160\u001b[39m         \u001b[33mf\u001b[39m\u001b[33m\"\u001b[39m\u001b[33m[DRY] handle=\u001b[39m\u001b[38;5;132;01m{\u001b[39;00mh\u001b[38;5;132;01m}\u001b[39;00m\u001b[33m posts=\u001b[39m\u001b[38;5;132;01m{\u001b[39;00mpushed.height\u001b[38;5;132;01m}\u001b[39;00m\u001b[33m method=\u001b[39m\u001b[38;5;132;01m{\u001b[39;00mmethod\u001b[38;5;132;01m}\u001b[39;00m\u001b[33m threshold=\u001b[39m\u001b[38;5;132;01m{\u001b[39;00msimilarity_threshold\u001b[38;5;132;01m}\u001b[39;00m\u001b[33m windows=(\u001b[39m\u001b[38;5;132;01m{\u001b[39;00mwindows_str\u001b[38;5;132;01m}\u001b[39;00m\u001b[33m)\u001b[39m\u001b[38;5;130;01m\\n\u001b[39;00m\u001b[33m  \u001b[39m\u001b[33m\"\u001b[39m\n\u001b[32m    161\u001b[39m         + \u001b[33m\"\u001b[39m\u001b[38;5;130;01m\\n\u001b[39;00m\u001b[33m  \u001b[39m\u001b[33m\"\u001b[39m.join(top_lines)\n\u001b[32m    162\u001b[39m     )\n\u001b[32m    163\u001b[39m \u001b[38;5;28;01melse\u001b[39;00m:\n\u001b[32m    164\u001b[39m     \u001b[38;5;66;03m# Push\u001b[39;00m\n\u001b[32m--> \u001b[39m\u001b[32m165\u001b[39m     ok = \u001b[43mranker\u001b[49m\u001b[43m.\u001b[49m\u001b[43mpost\u001b[49m\u001b[43m(\u001b[49m\u001b[43mtest\u001b[49m\u001b[43m=\u001b[49m\u001b[43mtest\u001b[49m\u001b[43m)\u001b[49m\n\u001b[32m    166\u001b[39m     status = \u001b[33m'\u001b[39m\u001b[33mOK\u001b[39m\u001b[33m'\u001b[39m \u001b[38;5;28;01mif\u001b[39;00m ok \u001b[38;5;28;01melse\u001b[39;00m \u001b[33m'\u001b[39m\u001b[33mFAIL\u001b[39m\u001b[33m'\u001b[39m\n\u001b[32m    167\u001b[39m     pushlog.info(\n\u001b[32m    168\u001b[39m         \u001b[33mf\u001b[39m\u001b[33m\"\u001b[39m\u001b[33m[\u001b[39m\u001b[38;5;132;01m{\u001b[39;00mstatus\u001b[38;5;132;01m}\u001b[39;00m\u001b[33m] handle=\u001b[39m\u001b[38;5;132;01m{\u001b[39;00mh\u001b[38;5;132;01m}\u001b[39;00m\u001b[33m posts=\u001b[39m\u001b[38;5;132;01m{\u001b[39;00mpushed.height\u001b[38;5;132;01m}\u001b[39;00m\u001b[33m method=\u001b[39m\u001b[38;5;132;01m{\u001b[39;00mmethod\u001b[38;5;132;01m}\u001b[39;00m\u001b[33m threshold=\u001b[39m\u001b[38;5;132;01m{\u001b[39;00msimilarity_threshold\u001b[38;5;132;01m}\u001b[39;00m\u001b[33m windows=(\u001b[39m\u001b[38;5;132;01m{\u001b[39;00mwindows_str\u001b[38;5;132;01m}\u001b[39;00m\u001b[33m)\u001b[39m\u001b[38;5;130;01m\\n\u001b[39;00m\u001b[33m  \u001b[39m\u001b[33m\"\u001b[39m\n\u001b[32m    169\u001b[39m         + \u001b[33m\"\u001b[39m\u001b[38;5;130;01m\\n\u001b[39;00m\u001b[33m  \u001b[39m\u001b[33m\"\u001b[39m.join(top_lines)\n\u001b[32m    170\u001b[39m     )\n",
            "\u001b[36mFile \u001b[39m\u001b[32m~/Work/VUPD/projects/NEWSFLOWS/blueskyranker/blueskyranker/ranker.py:90\u001b[39m, in \u001b[36m_BaseRanker.post\u001b[39m\u001b[34m(self, test)\u001b[39m\n\u001b[32m     88\u001b[39m post_list = \u001b[38;5;28mself\u001b[39m.ranking [[\u001b[33m'\u001b[39m\u001b[33muri\u001b[39m\u001b[33m'\u001b[39m]].with_row_index().rename({\u001b[33m'\u001b[39m\u001b[33mindex\u001b[39m\u001b[33m'\u001b[39m:\u001b[33m'\u001b[39m\u001b[33mpriority\u001b[39m\u001b[33m'\u001b[39m}).rows(named=\u001b[38;5;28;01mTrue\u001b[39;00m)\n\u001b[32m     89\u001b[39m logger.debug(\u001b[33mf\u001b[39m\u001b[33m\"\u001b[39m\u001b[33mSending this post_list:\u001b[39m\u001b[38;5;130;01m\\n\u001b[39;00m\u001b[38;5;132;01m{\u001b[39;00mpost_list\u001b[38;5;132;01m}\u001b[39;00m\u001b[33m\"\u001b[39m)\n\u001b[32m---> \u001b[39m\u001b[32m90\u001b[39m resp = \u001b[43mrequests\u001b[49m\u001b[43m.\u001b[49m\u001b[43mpost\u001b[49m\u001b[43m(\u001b[49m\u001b[33;43mf\u001b[39;49m\u001b[33;43m\"\u001b[39;49m\u001b[38;5;132;43;01m{\u001b[39;49;00m\u001b[43mserver\u001b[49m\u001b[38;5;132;43;01m}\u001b[39;49;00m\u001b[33;43m/api/prioritize\u001b[39;49m\u001b[33;43m\"\u001b[39;49m\u001b[43m,\u001b[49m\u001b[43m \u001b[49m\u001b[43mheaders\u001b[49m\u001b[43m=\u001b[49m\u001b[43mheaders\u001b[49m\u001b[43m,\u001b[49m\u001b[43m \u001b[49m\u001b[43mparams\u001b[49m\u001b[43m=\u001b[49m\u001b[43mparams\u001b[49m\u001b[43m,\u001b[49m\u001b[43m \u001b[49m\u001b[43mjson\u001b[49m\u001b[43m=\u001b[49m\u001b[43mpost_list\u001b[49m\u001b[43m)\u001b[49m\n\u001b[32m     91\u001b[39m \u001b[38;5;28;01mif\u001b[39;00m resp.status_code==\u001b[32m200\u001b[39m:\n\u001b[32m     92\u001b[39m     logger.debug(resp)\n",
            "\u001b[36mFile \u001b[39m\u001b[32m/opt/homebrew/Caskroom/miniforge/base/envs/bskyranker/lib/python3.11/site-packages/requests/api.py:115\u001b[39m, in \u001b[36mpost\u001b[39m\u001b[34m(url, data, json, **kwargs)\u001b[39m\n\u001b[32m    103\u001b[39m \u001b[38;5;28;01mdef\u001b[39;00m\u001b[38;5;250m \u001b[39m\u001b[34mpost\u001b[39m(url, data=\u001b[38;5;28;01mNone\u001b[39;00m, json=\u001b[38;5;28;01mNone\u001b[39;00m, **kwargs):\n\u001b[32m    104\u001b[39m \u001b[38;5;250m    \u001b[39m\u001b[33mr\u001b[39m\u001b[33;03m\"\"\"Sends a POST request.\u001b[39;00m\n\u001b[32m    105\u001b[39m \n\u001b[32m    106\u001b[39m \u001b[33;03m    :param url: URL for the new :class:`Request` object.\u001b[39;00m\n\u001b[32m   (...)\u001b[39m\u001b[32m    112\u001b[39m \u001b[33;03m    :rtype: requests.Response\u001b[39;00m\n\u001b[32m    113\u001b[39m \u001b[33;03m    \"\"\"\u001b[39;00m\n\u001b[32m--> \u001b[39m\u001b[32m115\u001b[39m     \u001b[38;5;28;01mreturn\u001b[39;00m \u001b[43mrequest\u001b[49m\u001b[43m(\u001b[49m\u001b[33;43m\"\u001b[39;49m\u001b[33;43mpost\u001b[39;49m\u001b[33;43m\"\u001b[39;49m\u001b[43m,\u001b[49m\u001b[43m \u001b[49m\u001b[43murl\u001b[49m\u001b[43m,\u001b[49m\u001b[43m \u001b[49m\u001b[43mdata\u001b[49m\u001b[43m=\u001b[49m\u001b[43mdata\u001b[49m\u001b[43m,\u001b[49m\u001b[43m \u001b[49m\u001b[43mjson\u001b[49m\u001b[43m=\u001b[49m\u001b[43mjson\u001b[49m\u001b[43m,\u001b[49m\u001b[43m \u001b[49m\u001b[43m*\u001b[49m\u001b[43m*\u001b[49m\u001b[43mkwargs\u001b[49m\u001b[43m)\u001b[49m\n",
            "\u001b[36mFile \u001b[39m\u001b[32m/opt/homebrew/Caskroom/miniforge/base/envs/bskyranker/lib/python3.11/site-packages/requests/api.py:59\u001b[39m, in \u001b[36mrequest\u001b[39m\u001b[34m(method, url, **kwargs)\u001b[39m\n\u001b[32m     55\u001b[39m \u001b[38;5;66;03m# By using the 'with' statement we are sure the session is closed, thus we\u001b[39;00m\n\u001b[32m     56\u001b[39m \u001b[38;5;66;03m# avoid leaving sockets open which can trigger a ResourceWarning in some\u001b[39;00m\n\u001b[32m     57\u001b[39m \u001b[38;5;66;03m# cases, and look like a memory leak in others.\u001b[39;00m\n\u001b[32m     58\u001b[39m \u001b[38;5;28;01mwith\u001b[39;00m sessions.Session() \u001b[38;5;28;01mas\u001b[39;00m session:\n\u001b[32m---> \u001b[39m\u001b[32m59\u001b[39m     \u001b[38;5;28;01mreturn\u001b[39;00m \u001b[43msession\u001b[49m\u001b[43m.\u001b[49m\u001b[43mrequest\u001b[49m\u001b[43m(\u001b[49m\u001b[43mmethod\u001b[49m\u001b[43m=\u001b[49m\u001b[43mmethod\u001b[49m\u001b[43m,\u001b[49m\u001b[43m \u001b[49m\u001b[43murl\u001b[49m\u001b[43m=\u001b[49m\u001b[43murl\u001b[49m\u001b[43m,\u001b[49m\u001b[43m \u001b[49m\u001b[43m*\u001b[49m\u001b[43m*\u001b[49m\u001b[43mkwargs\u001b[49m\u001b[43m)\u001b[49m\n",
            "\u001b[36mFile \u001b[39m\u001b[32m/opt/homebrew/Caskroom/miniforge/base/envs/bskyranker/lib/python3.11/site-packages/requests/sessions.py:589\u001b[39m, in \u001b[36mSession.request\u001b[39m\u001b[34m(self, method, url, params, data, headers, cookies, files, auth, timeout, allow_redirects, proxies, hooks, stream, verify, cert, json)\u001b[39m\n\u001b[32m    584\u001b[39m send_kwargs = {\n\u001b[32m    585\u001b[39m     \u001b[33m\"\u001b[39m\u001b[33mtimeout\u001b[39m\u001b[33m\"\u001b[39m: timeout,\n\u001b[32m    586\u001b[39m     \u001b[33m\"\u001b[39m\u001b[33mallow_redirects\u001b[39m\u001b[33m\"\u001b[39m: allow_redirects,\n\u001b[32m    587\u001b[39m }\n\u001b[32m    588\u001b[39m send_kwargs.update(settings)\n\u001b[32m--> \u001b[39m\u001b[32m589\u001b[39m resp = \u001b[38;5;28;43mself\u001b[39;49m\u001b[43m.\u001b[49m\u001b[43msend\u001b[49m\u001b[43m(\u001b[49m\u001b[43mprep\u001b[49m\u001b[43m,\u001b[49m\u001b[43m \u001b[49m\u001b[43m*\u001b[49m\u001b[43m*\u001b[49m\u001b[43msend_kwargs\u001b[49m\u001b[43m)\u001b[49m\n\u001b[32m    591\u001b[39m \u001b[38;5;28;01mreturn\u001b[39;00m resp\n",
            "\u001b[36mFile \u001b[39m\u001b[32m/opt/homebrew/Caskroom/miniforge/base/envs/bskyranker/lib/python3.11/site-packages/requests/sessions.py:703\u001b[39m, in \u001b[36mSession.send\u001b[39m\u001b[34m(self, request, **kwargs)\u001b[39m\n\u001b[32m    700\u001b[39m start = preferred_clock()\n\u001b[32m    702\u001b[39m \u001b[38;5;66;03m# Send the request\u001b[39;00m\n\u001b[32m--> \u001b[39m\u001b[32m703\u001b[39m r = \u001b[43madapter\u001b[49m\u001b[43m.\u001b[49m\u001b[43msend\u001b[49m\u001b[43m(\u001b[49m\u001b[43mrequest\u001b[49m\u001b[43m,\u001b[49m\u001b[43m \u001b[49m\u001b[43m*\u001b[49m\u001b[43m*\u001b[49m\u001b[43mkwargs\u001b[49m\u001b[43m)\u001b[49m\n\u001b[32m    705\u001b[39m \u001b[38;5;66;03m# Total elapsed time of the request (approximately)\u001b[39;00m\n\u001b[32m    706\u001b[39m elapsed = preferred_clock() - start\n",
            "\u001b[36mFile \u001b[39m\u001b[32m/opt/homebrew/Caskroom/miniforge/base/envs/bskyranker/lib/python3.11/site-packages/requests/adapters.py:700\u001b[39m, in \u001b[36mHTTPAdapter.send\u001b[39m\u001b[34m(self, request, stream, timeout, verify, cert, proxies)\u001b[39m\n\u001b[32m    696\u001b[39m     \u001b[38;5;28;01mif\u001b[39;00m \u001b[38;5;28misinstance\u001b[39m(e.reason, _SSLError):\n\u001b[32m    697\u001b[39m         \u001b[38;5;66;03m# This branch is for urllib3 v1.22 and later.\u001b[39;00m\n\u001b[32m    698\u001b[39m         \u001b[38;5;28;01mraise\u001b[39;00m SSLError(e, request=request)\n\u001b[32m--> \u001b[39m\u001b[32m700\u001b[39m     \u001b[38;5;28;01mraise\u001b[39;00m \u001b[38;5;167;01mConnectionError\u001b[39;00m(e, request=request)\n\u001b[32m    702\u001b[39m \u001b[38;5;28;01mexcept\u001b[39;00m ClosedPoolError \u001b[38;5;28;01mas\u001b[39;00m e:\n\u001b[32m    703\u001b[39m     \u001b[38;5;28;01mraise\u001b[39;00m \u001b[38;5;167;01mConnectionError\u001b[39;00m(e, request=request)\n",
            "\u001b[31mConnectionError\u001b[39m: HTTPSConnectionPool(host='localhost', port=3020): Max retries exceeded with url: /api/prioritize?test=true (Caused by NewConnectionError('<urllib3.connection.HTTPSConnection object at 0x12189aa50>: Failed to establish a new connection: [Errno 61] Connection refused'))"
          ]
        }
      ],
      "source": [
        "from blueskyranker.pipeline import run_fetch_rank_push\n",
        "run_fetch_rank_push(\n",
        "    handles=[handle],\n",
        "    method='networkclustering-sbert', similarity_threshold=0.5,\n",
        "    cluster_window_days=7, engagement_window_days=1, push_window_days=1,\n",
        "    include_pins=False, test=True, log_path='push.log'\n",
        ")\n"
      ]
    },
    {
      "cell_type": "code",
      "execution_count": null,
      "metadata": {},
      "outputs": [
        {
          "name": "stderr",
          "output_type": "stream",
          "text": [
            "Do you really want to do this? You have 300 texts, calculating sentence embeddings will be REALLY slow\n",
            "Consider using another method, or submitting less document\n",
            "Batches: 100%|██████████| 10/10 [00:01<00:00,  6.63it/s]\n",
            "Do you really want to do this? You have 300 texts, calculating sentence embeddings will be REALLY slow\n",
            "Consider using another method, or submitting less document\n",
            "Batches: 100%|██████████| 10/10 [00:01<00:00,  7.88it/s]\n",
            "Do you really want to do this? You have 300 texts, calculating sentence embeddings will be REALLY slow\n",
            "Consider using another method, or submitting less document\n",
            "Batches: 100%|██████████| 10/10 [00:00<00:00, 11.42it/s]\n",
            "Do you really want to do this? You have 300 texts, calculating sentence embeddings will be REALLY slow\n",
            "Consider using another method, or submitting less document\n",
            "Batches: 100%|██████████| 10/10 [00:01<00:00,  8.93it/s]"
          ]
        },
        {
          "name": "stdout",
          "output_type": "stream",
          "text": [
            "Wrote cluster_report.md\n"
          ]
        },
        {
          "name": "stderr",
          "output_type": "stream",
          "text": [
            "\n"
          ]
        }
      ],
      "source": [
        "from blueskyranker.cluster_report import generate_cluster_report\n",
        "generate_cluster_report(db_path='newsflows.db', output_path='cluster_report.md',\n",
        "                        method='networkclustering-sbert', sample_max=300,\n",
        "                        similarity_threshold=0.2, vectorizer_stopwords='english')\n",
        "print('Wrote cluster_report.md')\n"
      ]
    },
    {
      "cell_type": "markdown",
      "metadata": {},
      "source": "### Pipeline updates (priority and demotion)\n\n- Priority assignment now starts at 1000 for the first item and decreases by 1 (1000, 999, 998, …). The minimum is clamped at 1. Items explicitly demoted are sent with priority 0.\n- Demotion: by default, all posts from the last 48 hours that are not in the current prioritisation are sent with priority 0. Configure via `--demote-window-hours`.\n- Export filenames use a human‑readable UTC timestamp: `push_{handle}_{YYYY-MM-DDTHH-mm-ssZ}.json`.\n- Server responses: short responses print to stdout; long responses are saved to `push_exports/prioritize_response_{handle}_{YYYY-MM-DDTHH-mm-ssZ}.{json|txt}`.\n\nExample CLI:\n\n```\npython -m blueskyranker.pipeline \\\n+  --handles news-flows-nl.bsky.social news-flows-fr.bsky.social \\\n+  --method networkclustering-tfidf \\\n+  --similarity-threshold 0.2 \\\n+  --cluster-window-days 7 \\\n+  --engagement-window-days 1 \\\n+  --push-window-days 2 \\\n+  --demote-last \\\n+  --demote-window-hours 48 \\\n+  --log-path push.log \\\n+  --no-test\n```\n\nProgrammatic call:\n\n```python\nfrom blueskyranker.pipeline import run_fetch_rank_push\nrun_fetch_rank_push(\n    handles=['news-flows-nl.bsky.social'],\n    method='networkclustering-tfidf', similarity_threshold=0.2,\n    cluster_window_days=7, engagement_window_days=1, push_window_days=2,\n    demote_last=True, demote_window_hours=48,\n    include_pins=False, test=True, log_path='push.log')\n```\n"
    },
    {
      "cell_type": "markdown",
      "metadata": {},
      "source": "### Pipeline updates (priority and demotion)\n\n- Priority assignment now starts at 1000 for the first item and decreases by 1 (1000, 999, 998, …). The minimum is clamped at 1. Items explicitly demoted are sent with priority 0.\n- Demotion: by default, all posts from the last 48 hours that are not in the current prioritisation are sent with priority 0. Configure via `--demote-window-hours`.\n- Export filenames use a human‑readable UTC timestamp: `push_{handle}_{YYYY-MM-DDTHH-mm-ssZ}.json`.\n- Server responses: short responses print to stdout; long responses are saved to `push_exports/prioritize_response_{handle}_{YYYY-MM-DDTHH-mm-ssZ}.{json|txt}`.\n\nExample CLI:\n\n```\npython -m blueskyranker.pipeline \\\n+  --handles news-flows-nl.bsky.social news-flows-fr.bsky.social \\\n+  --method networkclustering-tfidf \\\n+  --similarity-threshold 0.2 \\\n+  --cluster-window-days 7 \\\n+  --engagement-window-days 1 \\\n+  --push-window-days 2 \\\n+  --demote-last \\\n+  --demote-window-hours 48 \\\n+  --log-path push.log \\\n+  --no-test\n```\n\nProgrammatic call:\n\n```python\nfrom blueskyranker.pipeline import run_fetch_rank_push\nrun_fetch_rank_push(\n    handles=['news-flows-nl.bsky.social'],\n    method='networkclustering-tfidf', similarity_threshold=0.2,\n    cluster_window_days=7, engagement_window_days=1, push_window_days=2,\n    demote_last=True, demote_window_hours=48,\n    include_pins=False, test=True, log_path='push.log')\n```\n"
    },
    {
      "cell_type": "markdown",
      "metadata": {},
      "source": "### Ordering logic (time windows)\n\n- Clustering window: clusters are built from posts in this window (e.g., 7 days).\n- Engagement window: cluster engagement is computed here to derive `cluster_engagement_rank` (1 = most engaged).\n- Push window: only posts in this window are eligible for the final feed.\n\nOrder of posts:\n\n1) Filter to the push window.\n\n2) Order clusters by engagement rank (most engaged first).\n\n3) Within each cluster, sort by recency (newest first).\n\n4) Interleave round‑robin across clusters in rank order (1, 2, 3, … then repeat).\n\nResult: the first post is the most‑recent item from the most‑engaged cluster that has posts in the push window.\n"
    }
  ],
  "metadata": {
    "kernelspec": {
      "display_name": "bskyranker",
      "language": "python",
      "name": "python3"
    },
    "language_info": {
      "codemirror_mode": {
        "name": "ipython",
        "version": 3
      },
      "file_extension": ".py",
      "mimetype": "text/x-python",
      "name": "python",
      "nbconvert_exporter": "python",
      "pygments_lexer": "ipython3",
      "version": "3.11.13"
    }
  },
  "nbformat": 4,
  "nbformat_minor": 5
}